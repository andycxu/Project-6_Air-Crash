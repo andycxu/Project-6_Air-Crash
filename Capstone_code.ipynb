{
 "cells": [
  {
   "cell_type": "markdown",
   "id": "f412a044-9379-4e2b-a4b2-be9b4c2a39b3",
   "metadata": {},
   "source": [
    "# General Assembly DSI - Capstone Project"
   ]
  },
  {
   "cell_type": "markdown",
   "id": "877e3498-0ad5-4fb3-8600-beae0bd5c1ca",
   "metadata": {},
   "source": [
    "#### Chenhao (Andy) Xu, June 13, 2022"
   ]
  },
  {
   "cell_type": "markdown",
   "id": "c700b473-6509-478a-889b-d27ba69db947",
   "metadata": {},
   "source": [
    "## * Data Source"
   ]
  },
  {
   "cell_type": "markdown",
   "id": "803218a9-aa3d-4110-a40a-6f49722608ed",
   "metadata": {
    "tags": []
   },
   "source": [
    "https://www.kaggle.com/datasets/abeperez/historical-plane-crash-data"
   ]
  },
  {
   "cell_type": "markdown",
   "id": "2531c709-9660-4b1e-aabc-a780e7aafca3",
   "metadata": {},
   "source": [
    "## * Problem Statement"
   ]
  },
  {
   "cell_type": "markdown",
   "id": "c414e5d5-0392-4f97-82ad-afbdff021487",
   "metadata": {},
   "source": [
    "As an airplane fan, it is both my personal and public attention about the air travel safety. Although air travel is one of the safest transportation nowadays, the risk still exist, especially the high injury and mortality rate when single accident occurred. In order to help publics to understand more about the plane crashes, this study utilizes the features of aircraft type and age, operator, flight phase, crash site and time in the historical airplane crash records and explores the severeness of crash, whether there is survivor or not. "
   ]
  },
  {
   "cell_type": "markdown",
   "id": "cb52aa77-eef3-40aa-bfe6-51252b6d4b8c",
   "metadata": {},
   "source": [
    "## * Library Import"
   ]
  },
  {
   "cell_type": "code",
   "execution_count": 221,
   "id": "9159569c-46c3-473d-8ea7-c06274c4d54a",
   "metadata": {},
   "outputs": [],
   "source": [
    "import pandas as pd\n",
    "import numpy as np\n",
    "import matplotlib.pyplot as plt\n",
    "\n",
    "from sklearn.model_selection import train_test_split, cross_val_score, GridSearchCV\n",
    "from sklearn.linear_model import LogisticRegression\n",
    "from sklearn.neighbors import KNeighborsClassifier\n",
    "from sklearn.ensemble import RandomForestClassifier, BaggingClassifier\n",
    "from sklearn.impute import SimpleImputer\n",
    "from sklearn.preprocessing import OneHotEncoder\n",
    "from sklearn.compose import make_column_transformer\n",
    "from sklearn.preprocessing import StandardScaler\n",
    "from sklearn.metrics import ConfusionMatrixDisplay\n",
    "\n",
    "from sklearn.feature_extraction.text import CountVectorizer, TfidfVectorizer\n",
    "from sklearn.pipeline import make_pipeline\n",
    "\n",
    "from sklearn.metrics import accuracy_score, recall_score, precision_score, f1_score\n",
    "from imblearn.over_sampling import RandomOverSampler"
   ]
  },
  {
   "cell_type": "markdown",
   "id": "50bb9969-db21-49a3-99a0-064de7cf24c6",
   "metadata": {},
   "source": [
    "## * Load the Data"
   ]
  },
  {
   "cell_type": "code",
   "execution_count": 2,
   "id": "8c1fd366-8e68-4146-93aa-1d5edc095b1f",
   "metadata": {},
   "outputs": [],
   "source": [
    "df_crash = pd.read_csv('data/crash_data_1918.csv', encoding= 'unicode_escape')"
   ]
  },
  {
   "cell_type": "markdown",
   "id": "1562015c-94e2-49aa-9c73-231b2e8e79aa",
   "metadata": {},
   "source": [
    "## 1. Data Cleaning"
   ]
  },
  {
   "cell_type": "markdown",
   "id": "5cbf3d46-55f0-454f-94c6-066b8484564b",
   "metadata": {},
   "source": [
    "### 1.1. General Cleaning"
   ]
  },
  {
   "cell_type": "code",
   "execution_count": 3,
   "id": "07a33fad-7528-44fd-a5a7-55179739f75d",
   "metadata": {
    "tags": []
   },
   "outputs": [
    {
     "data": {
      "text/plain": [
       "(28440, 24)"
      ]
     },
     "execution_count": 3,
     "metadata": {},
     "output_type": "execute_result"
    }
   ],
   "source": [
    "# Shape of original dataset\n",
    "df_crash.shape"
   ]
  },
  {
   "cell_type": "code",
   "execution_count": 4,
   "id": "2fbb1b37-a82f-499a-add5-a52887f277af",
   "metadata": {},
   "outputs": [
    {
     "name": "stdout",
     "output_type": "stream",
     "text": [
      "<class 'pandas.core.frame.DataFrame'>\n",
      "RangeIndex: 28440 entries, 0 to 28439\n",
      "Data columns (total 24 columns):\n",
      " #   Column            Non-Null Count  Dtype  \n",
      "---  ------            --------------  -----  \n",
      " 0   Date              28440 non-null  object \n",
      " 1   Time              13894 non-null  object \n",
      " 2   Aircraft          28439 non-null  object \n",
      " 3   Operator          28440 non-null  object \n",
      " 4   Registration      27627 non-null  object \n",
      " 5   Flight phase      27801 non-null  object \n",
      " 6   Flight type       28383 non-null  object \n",
      " 7   Survivors         27136 non-null  object \n",
      " 8   Crash site        28058 non-null  object \n",
      " 9   Schedule          19481 non-null  object \n",
      " 10  MSN               24269 non-null  object \n",
      " 11  YOM               23119 non-null  float64\n",
      " 12  Flight no.        2838 non-null   object \n",
      " 13  Crash location    28427 non-null  object \n",
      " 14  Country           28439 non-null  object \n",
      " 15  Region            28439 non-null  object \n",
      " 16  Crew on board     28416 non-null  float64\n",
      " 17  Crew fatalities   28439 non-null  float64\n",
      " 18  Pax on board      28386 non-null  float64\n",
      " 19  PAX fatalities    28439 non-null  float64\n",
      " 20  Other fatalities  28430 non-null  float64\n",
      " 21  Total fatalities  28440 non-null  int64  \n",
      " 22  Circumstances     28415 non-null  object \n",
      " 23  Crash cause       28440 non-null  object \n",
      "dtypes: float64(6), int64(1), object(17)\n",
      "memory usage: 5.2+ MB\n"
     ]
    }
   ],
   "source": [
    "df_crash.info()"
   ]
  },
  {
   "cell_type": "code",
   "execution_count": 5,
   "id": "aefc0ec1-6f7a-4933-8f2c-0b807c5ed935",
   "metadata": {},
   "outputs": [
    {
     "data": {
      "text/html": [
       "<div>\n",
       "<style scoped>\n",
       "    .dataframe tbody tr th:only-of-type {\n",
       "        vertical-align: middle;\n",
       "    }\n",
       "\n",
       "    .dataframe tbody tr th {\n",
       "        vertical-align: top;\n",
       "    }\n",
       "\n",
       "    .dataframe thead th {\n",
       "        text-align: right;\n",
       "    }\n",
       "</style>\n",
       "<table border=\"1\" class=\"dataframe\">\n",
       "  <thead>\n",
       "    <tr style=\"text-align: right;\">\n",
       "      <th></th>\n",
       "      <th>Date</th>\n",
       "      <th>Time</th>\n",
       "      <th>Aircraft</th>\n",
       "      <th>Operator</th>\n",
       "      <th>Registration</th>\n",
       "      <th>Flight phase</th>\n",
       "      <th>Flight type</th>\n",
       "      <th>Survivors</th>\n",
       "      <th>Crash site</th>\n",
       "      <th>Schedule</th>\n",
       "      <th>...</th>\n",
       "      <th>Country</th>\n",
       "      <th>Region</th>\n",
       "      <th>Crew on board</th>\n",
       "      <th>Crew fatalities</th>\n",
       "      <th>Pax on board</th>\n",
       "      <th>PAX fatalities</th>\n",
       "      <th>Other fatalities</th>\n",
       "      <th>Total fatalities</th>\n",
       "      <th>Circumstances</th>\n",
       "      <th>Crash cause</th>\n",
       "    </tr>\n",
       "  </thead>\n",
       "  <tbody>\n",
       "    <tr>\n",
       "      <th>0</th>\n",
       "      <td>1918-05-02</td>\n",
       "      <td>NaN</td>\n",
       "      <td>De Havilland DH.4</td>\n",
       "      <td>United States Signal Corps - USSC</td>\n",
       "      <td>AS-32084</td>\n",
       "      <td>Takeoff (climb)</td>\n",
       "      <td>Test</td>\n",
       "      <td>No</td>\n",
       "      <td>Airport (less than 10 km from airport)</td>\n",
       "      <td>Dayton - Dayton</td>\n",
       "      <td>...</td>\n",
       "      <td>United States of America</td>\n",
       "      <td>North America</td>\n",
       "      <td>2.0</td>\n",
       "      <td>2.0</td>\n",
       "      <td>0.0</td>\n",
       "      <td>0.0</td>\n",
       "      <td>0.0</td>\n",
       "      <td>2</td>\n",
       "      <td>The single engine airplane departed Dayton-McC...</td>\n",
       "      <td>Technical failure</td>\n",
       "    </tr>\n",
       "    <tr>\n",
       "      <th>1</th>\n",
       "      <td>1918-06-08</td>\n",
       "      <td>NaN</td>\n",
       "      <td>Handley Page V/1500</td>\n",
       "      <td>Handley Page Aircraft Company Ltd</td>\n",
       "      <td>E4104</td>\n",
       "      <td>Takeoff (climb)</td>\n",
       "      <td>Test</td>\n",
       "      <td>Yes</td>\n",
       "      <td>Airport (less than 10 km from airport)</td>\n",
       "      <td>Cricklewood - Cricklewood</td>\n",
       "      <td>...</td>\n",
       "      <td>United Kingdom</td>\n",
       "      <td>Europe</td>\n",
       "      <td>6.0</td>\n",
       "      <td>5.0</td>\n",
       "      <td>0.0</td>\n",
       "      <td>0.0</td>\n",
       "      <td>0.0</td>\n",
       "      <td>5</td>\n",
       "      <td>Assembled at Cricklewood Airfield in May 1918,...</td>\n",
       "      <td>Technical failure</td>\n",
       "    </tr>\n",
       "  </tbody>\n",
       "</table>\n",
       "<p>2 rows × 24 columns</p>\n",
       "</div>"
      ],
      "text/plain": [
       "         Date Time             Aircraft                           Operator  \\\n",
       "0  1918-05-02  NaN    De Havilland DH.4  United States Signal Corps - USSC   \n",
       "1  1918-06-08  NaN  Handley Page V/1500  Handley Page Aircraft Company Ltd   \n",
       "\n",
       "  Registration     Flight phase Flight type Survivors  \\\n",
       "0     AS-32084  Takeoff (climb)        Test        No   \n",
       "1        E4104  Takeoff (climb)        Test       Yes   \n",
       "\n",
       "                               Crash site                   Schedule  ...  \\\n",
       "0  Airport (less than 10 km from airport)            Dayton - Dayton  ...   \n",
       "1  Airport (less than 10 km from airport)  Cricklewood - Cricklewood  ...   \n",
       "\n",
       "                    Country         Region Crew on board Crew fatalities  \\\n",
       "0  United States of America  North America           2.0             2.0   \n",
       "1            United Kingdom         Europe           6.0             5.0   \n",
       "\n",
       "  Pax on board PAX fatalities  Other fatalities  Total fatalities  \\\n",
       "0          0.0            0.0               0.0                 2   \n",
       "1          0.0            0.0               0.0                 5   \n",
       "\n",
       "                                       Circumstances        Crash cause  \n",
       "0  The single engine airplane departed Dayton-McC...  Technical failure  \n",
       "1  Assembled at Cricklewood Airfield in May 1918,...  Technical failure  \n",
       "\n",
       "[2 rows x 24 columns]"
      ]
     },
     "execution_count": 5,
     "metadata": {},
     "output_type": "execute_result"
    }
   ],
   "source": [
    "df_crash.head(2)"
   ]
  },
  {
   "cell_type": "code",
   "execution_count": 6,
   "id": "4e0aa564-b285-4971-bb3e-3d0710665c0b",
   "metadata": {},
   "outputs": [
    {
     "data": {
      "text/plain": [
       "Date                    0\n",
       "Time                14546\n",
       "Aircraft                1\n",
       "Operator                0\n",
       "Registration          813\n",
       "Flight phase          639\n",
       "Flight type            57\n",
       "Survivors            1304\n",
       "Crash site            382\n",
       "Schedule             8959\n",
       "MSN                  4171\n",
       "YOM                  5321\n",
       "Flight no.          25602\n",
       "Crash location         13\n",
       "Country                 1\n",
       "Region                  1\n",
       "Crew on board          24\n",
       "Crew fatalities         1\n",
       "Pax on board           54\n",
       "PAX fatalities          1\n",
       "Other fatalities       10\n",
       "Total fatalities        0\n",
       "Circumstances          25\n",
       "Crash cause             0\n",
       "dtype: int64"
      ]
     },
     "execution_count": 6,
     "metadata": {},
     "output_type": "execute_result"
    }
   ],
   "source": [
    "# null values in original dataset\n",
    "df_crash.isnull().sum()"
   ]
  },
  {
   "cell_type": "code",
   "execution_count": 8,
   "id": "360174bc-8345-41b9-8ccb-8661db219843",
   "metadata": {},
   "outputs": [],
   "source": [
    "# Convert the date into datetime series\n",
    "df_crash['Date'] = pd.to_datetime(df_crash['Date'])"
   ]
  },
  {
   "cell_type": "code",
   "execution_count": 9,
   "id": "a95ca8d1-9b92-453d-8f1c-52c125ad030d",
   "metadata": {},
   "outputs": [],
   "source": [
    "# Calculate the aircraft age at the time of crash\n",
    "df_crash['aircraft_age'] = df_crash['Date'].dt.year - df_crash['YOM']"
   ]
  },
  {
   "cell_type": "code",
   "execution_count": 10,
   "id": "e157032c-9a95-4cd2-b8cc-64be2500ceab",
   "metadata": {},
   "outputs": [],
   "source": [
    "# Found something does not make sense. There was 1924 people on board of a airplane...\n",
    "df_crash['Crew on board'].max()\n",
    "\n",
    "# Remove this row\n",
    "df_crash = df_crash[df_crash['Crew on board'] != 1924.0]"
   ]
  },
  {
   "cell_type": "markdown",
   "id": "858239e0-529f-4715-b1d1-b69cb491a713",
   "metadata": {},
   "source": [
    "Calculate the total souls on board and the total deaths on board. \n",
    "The Total fatalities includes the deaths on ground (Other fatalities) which is not part of the study. "
   ]
  },
  {
   "cell_type": "code",
   "execution_count": 11,
   "id": "ca163a4c-e233-4f8a-a361-2d73694013e0",
   "metadata": {
    "tags": []
   },
   "outputs": [],
   "source": [
    "df_crash['people_on_board'] = df_crash['Crew on board'] + df_crash['Pax on board']\n",
    "df_crash['fatal_on_board'] = df_crash['Crew fatalities'] + df_crash['PAX fatalities']"
   ]
  },
  {
   "cell_type": "code",
   "execution_count": 12,
   "id": "8c29c8a4-ce09-421e-9d5f-26ffaeb1994b",
   "metadata": {
    "tags": []
   },
   "outputs": [],
   "source": [
    "# Calcualte the number of survivors\n",
    "df_crash['num_survivor'] = df_crash['people_on_board'] - df_crash['fatal_on_board']"
   ]
  },
  {
   "cell_type": "code",
   "execution_count": 13,
   "id": "8eb821b3-0710-4eda-8383-1a6bb03593e1",
   "metadata": {},
   "outputs": [],
   "source": [
    "# remove the rows that have more total deaths than total on board. \n",
    "df_crash = df_crash[df_crash['num_survivor'] >= 0]"
   ]
  },
  {
   "cell_type": "code",
   "execution_count": 14,
   "id": "65cf9f13-754c-405a-a7a8-5f2625fa557c",
   "metadata": {
    "tags": []
   },
   "outputs": [],
   "source": [
    "# Remove columns that are either with too many missing values or not part of the study\n",
    "df_crash = df_crash.drop(columns = ['Registration', 'Schedule', 'MSN', 'Flight no.', 'YOM', 'Crew on board', 'Crew fatalities', 'Pax on board', 'PAX fatalities', \n",
    "                                    'Other fatalities', 'Total fatalities'])"
   ]
  },
  {
   "cell_type": "markdown",
   "id": "f051f42b-507e-41c9-8832-5ff59c2c1b6b",
   "metadata": {},
   "source": [
    "### 1.2. Convert y Value into numeric"
   ]
  },
  {
   "cell_type": "code",
   "execution_count": 15,
   "id": "82e29353-0738-480d-9704-9d93f9e6ba85",
   "metadata": {
    "tags": []
   },
   "outputs": [],
   "source": [
    "# Convert whether there's survivor column to numeric. \n",
    "def survivors(word):\n",
    "    if word == 'Yes':\n",
    "        return 1\n",
    "    elif word == 'No':\n",
    "        return 0\n",
    "    \n",
    "df_crash['Survivors'] = df_crash['Survivors'].apply(survivors)"
   ]
  },
  {
   "cell_type": "code",
   "execution_count": 16,
   "id": "6117abf1-3b5c-4524-bdde-3f134d23e777",
   "metadata": {},
   "outputs": [],
   "source": [
    "# Drop Nan for Survivors \n",
    "df_crash = df_crash.dropna(subset = ['Survivors'])\n",
    "\n",
    "# reset index\n",
    "df_crash = df_crash.reset_index(drop = True)"
   ]
  },
  {
   "cell_type": "markdown",
   "id": "8bda74bd-9c6a-4356-8699-d05597bb725a",
   "metadata": {},
   "source": [
    "### 1.3. Detailed Data Cleaning"
   ]
  },
  {
   "cell_type": "markdown",
   "id": "b16ad4fb-a40f-4853-9cab-721354b89fc6",
   "metadata": {},
   "source": [
    "Data in the people on board and number of deaths are not always matching the answer in whether there's survivor. If Survivors are correct, the data in people on board and number of death may not accurate. In this study, we assume the column of whether there's survivor is correct"
   ]
  },
  {
   "cell_type": "code",
   "execution_count": 19,
   "id": "a86e31fd-93c8-409a-82a5-0ddbdebf6832",
   "metadata": {
    "tags": []
   },
   "outputs": [
    {
     "data": {
      "text/html": [
       "<div>\n",
       "<style scoped>\n",
       "    .dataframe tbody tr th:only-of-type {\n",
       "        vertical-align: middle;\n",
       "    }\n",
       "\n",
       "    .dataframe tbody tr th {\n",
       "        vertical-align: top;\n",
       "    }\n",
       "\n",
       "    .dataframe thead th {\n",
       "        text-align: right;\n",
       "    }\n",
       "</style>\n",
       "<table border=\"1\" class=\"dataframe\">\n",
       "  <thead>\n",
       "    <tr style=\"text-align: right;\">\n",
       "      <th></th>\n",
       "      <th>Date</th>\n",
       "      <th>Time</th>\n",
       "      <th>Aircraft</th>\n",
       "      <th>Operator</th>\n",
       "      <th>Flight phase</th>\n",
       "      <th>Flight type</th>\n",
       "      <th>Survivors</th>\n",
       "      <th>Crash site</th>\n",
       "      <th>Crash location</th>\n",
       "      <th>Country</th>\n",
       "      <th>Region</th>\n",
       "      <th>Circumstances</th>\n",
       "      <th>Crash cause</th>\n",
       "      <th>aircraft_age</th>\n",
       "      <th>people_on_board</th>\n",
       "      <th>fatal_on_board</th>\n",
       "      <th>num_survivor</th>\n",
       "    </tr>\n",
       "  </thead>\n",
       "  <tbody>\n",
       "    <tr>\n",
       "      <th>26998</th>\n",
       "      <td>2022-02-24</td>\n",
       "      <td>NaN</td>\n",
       "      <td>Antonov AN-26</td>\n",
       "      <td>Russian Air Force - Voyenno-vozdushnye sily Ro...</td>\n",
       "      <td>Flight</td>\n",
       "      <td>Military</td>\n",
       "      <td>0.0</td>\n",
       "      <td>Plain, Valley</td>\n",
       "      <td>Ostrogozhsk Voronezh oblast</td>\n",
       "      <td>Russia</td>\n",
       "      <td>Asia</td>\n",
       "      <td>The aircraft crashed in unknown circumstances ...</td>\n",
       "      <td>Unknown</td>\n",
       "      <td>43.0</td>\n",
       "      <td>0.0</td>\n",
       "      <td>0.0</td>\n",
       "      <td>0.0</td>\n",
       "    </tr>\n",
       "    <tr>\n",
       "      <th>27007</th>\n",
       "      <td>2022-04-03</td>\n",
       "      <td>NaN</td>\n",
       "      <td>Piper PA-31-350 Navajo Chieftain</td>\n",
       "      <td>Private Brazilian</td>\n",
       "      <td>Landing (descent or approach)</td>\n",
       "      <td>Illegal (smuggling)</td>\n",
       "      <td>1.0</td>\n",
       "      <td>Plain, Valley</td>\n",
       "      <td>Cobán Alta Verapaz</td>\n",
       "      <td>Guatemala</td>\n",
       "      <td>Central America</td>\n",
       "      <td>Crashed in unknown circumstances in bushes nea...</td>\n",
       "      <td>Human factor</td>\n",
       "      <td>NaN</td>\n",
       "      <td>0.0</td>\n",
       "      <td>0.0</td>\n",
       "      <td>0.0</td>\n",
       "    </tr>\n",
       "  </tbody>\n",
       "</table>\n",
       "</div>"
      ],
      "text/plain": [
       "            Date Time                          Aircraft  \\\n",
       "26998 2022-02-24  NaN                     Antonov AN-26   \n",
       "27007 2022-04-03  NaN  Piper PA-31-350 Navajo Chieftain   \n",
       "\n",
       "                                                Operator  \\\n",
       "26998  Russian Air Force - Voyenno-vozdushnye sily Ro...   \n",
       "27007                                  Private Brazilian   \n",
       "\n",
       "                        Flight phase          Flight type  Survivors  \\\n",
       "26998                         Flight             Military        0.0   \n",
       "27007  Landing (descent or approach)  Illegal (smuggling)        1.0   \n",
       "\n",
       "          Crash site               Crash location    Country           Region  \\\n",
       "26998  Plain, Valley  Ostrogozhsk Voronezh oblast     Russia             Asia   \n",
       "27007  Plain, Valley           Cobán Alta Verapaz  Guatemala  Central America   \n",
       "\n",
       "                                           Circumstances   Crash cause  \\\n",
       "26998  The aircraft crashed in unknown circumstances ...       Unknown   \n",
       "27007  Crashed in unknown circumstances in bushes nea...  Human factor   \n",
       "\n",
       "       aircraft_age  people_on_board  fatal_on_board  num_survivor  \n",
       "26998          43.0              0.0             0.0           0.0  \n",
       "27007           NaN              0.0             0.0           0.0  "
      ]
     },
     "execution_count": 19,
     "metadata": {},
     "output_type": "execute_result"
    }
   ],
   "source": [
    "# For example: \n",
    "df_crash[df_crash['people_on_board'] == 0].tail(2)"
   ]
  },
  {
   "cell_type": "markdown",
   "id": "841dc2dc-3207-45fc-86c4-f1697ddc8d90",
   "metadata": {},
   "source": [
    "Fix the missing value in Country and Region. By reading the other features, it's been recognized that the location was US."
   ]
  },
  {
   "cell_type": "code",
   "execution_count": 20,
   "id": "a661cdde-dec4-41b1-8702-88bf87cbed1e",
   "metadata": {
    "tags": []
   },
   "outputs": [
    {
     "data": {
      "text/html": [
       "<div>\n",
       "<style scoped>\n",
       "    .dataframe tbody tr th:only-of-type {\n",
       "        vertical-align: middle;\n",
       "    }\n",
       "\n",
       "    .dataframe tbody tr th {\n",
       "        vertical-align: top;\n",
       "    }\n",
       "\n",
       "    .dataframe thead th {\n",
       "        text-align: right;\n",
       "    }\n",
       "</style>\n",
       "<table border=\"1\" class=\"dataframe\">\n",
       "  <thead>\n",
       "    <tr style=\"text-align: right;\">\n",
       "      <th></th>\n",
       "      <th>Date</th>\n",
       "      <th>Time</th>\n",
       "      <th>Aircraft</th>\n",
       "      <th>Operator</th>\n",
       "      <th>Flight phase</th>\n",
       "      <th>Flight type</th>\n",
       "      <th>Survivors</th>\n",
       "      <th>Crash site</th>\n",
       "      <th>Crash location</th>\n",
       "      <th>Country</th>\n",
       "      <th>Region</th>\n",
       "      <th>Circumstances</th>\n",
       "      <th>Crash cause</th>\n",
       "      <th>aircraft_age</th>\n",
       "      <th>people_on_board</th>\n",
       "      <th>fatal_on_board</th>\n",
       "      <th>num_survivor</th>\n",
       "    </tr>\n",
       "  </thead>\n",
       "  <tbody>\n",
       "    <tr>\n",
       "      <th>6097</th>\n",
       "      <td>1945-02-01</td>\n",
       "      <td>NaN</td>\n",
       "      <td>Consolidated PBY-5A Catalina</td>\n",
       "      <td>United States Navy - USN</td>\n",
       "      <td>Flight</td>\n",
       "      <td>Survey / Patrol / Reconnaissance</td>\n",
       "      <td>0.0</td>\n",
       "      <td>Lake, Sea, Ocean, River</td>\n",
       "      <td>NaN</td>\n",
       "      <td>NaN</td>\n",
       "      <td>NaN</td>\n",
       "      <td>Crashed in unknown circumstances into the sea ...</td>\n",
       "      <td>Unknown</td>\n",
       "      <td>NaN</td>\n",
       "      <td>10.0</td>\n",
       "      <td>10.0</td>\n",
       "      <td>0.0</td>\n",
       "    </tr>\n",
       "  </tbody>\n",
       "</table>\n",
       "</div>"
      ],
      "text/plain": [
       "           Date Time                      Aircraft                  Operator  \\\n",
       "6097 1945-02-01  NaN  Consolidated PBY-5A Catalina  United States Navy - USN   \n",
       "\n",
       "     Flight phase                       Flight type  Survivors  \\\n",
       "6097       Flight  Survey / Patrol / Reconnaissance        0.0   \n",
       "\n",
       "                   Crash site Crash location Country Region  \\\n",
       "6097  Lake, Sea, Ocean, River            NaN     NaN    NaN   \n",
       "\n",
       "                                          Circumstances Crash cause  \\\n",
       "6097  Crashed in unknown circumstances into the sea ...     Unknown   \n",
       "\n",
       "      aircraft_age  people_on_board  fatal_on_board  num_survivor  \n",
       "6097           NaN             10.0            10.0           0.0  "
      ]
     },
     "execution_count": 20,
     "metadata": {},
     "output_type": "execute_result"
    }
   ],
   "source": [
    "df_crash[df_crash['Country'].isna()]"
   ]
  },
  {
   "cell_type": "code",
   "execution_count": 21,
   "id": "a7fae8fc-c863-42e7-a338-a83ae38cf1d8",
   "metadata": {},
   "outputs": [],
   "source": [
    "# Fill up the null value for Country and Region\n",
    "df_crash['Country'] = df_crash['Country'].replace(np.nan, 'United States of America')\n",
    "df_crash['Region'] = df_crash['Region'].replace(np.nan, 'North America')"
   ]
  },
  {
   "cell_type": "code",
   "execution_count": 22,
   "id": "b07f1309-c911-4ad5-b736-972bcf727c96",
   "metadata": {},
   "outputs": [],
   "source": [
    "df_crash[df_crash['Country'] == 'World'] \n",
    "# Notice some crashes had country of 'World'. Since country is one feature of the model, we removed all crashes with country of world. \n",
    "# That's 582 crashes, compare to total 27020 crashes, it's not a big loss of data\n",
    "df_crash = df_crash[df_crash['Country'] != 'World']"
   ]
  },
  {
   "cell_type": "markdown",
   "id": "cff13168-b664-4a40-a5f9-efa6863c35b7",
   "metadata": {},
   "source": [
    "Reduce the number of columns(features) for later analysis: \n",
    "\n",
    "1. Flight type\n",
    "2. Aircraf type"
   ]
  },
  {
   "cell_type": "code",
   "execution_count": 24,
   "id": "8280711e-1938-4bba-afdb-7566601f36de",
   "metadata": {},
   "outputs": [
    {
     "data": {
      "text/plain": [
       "Scheduled Revenue Flight    5571\n",
       "Military                    3944\n",
       "Training                    3139\n",
       "Cargo                       2755\n",
       "Private                     2198\n",
       "Name: Flight type, dtype: int64"
      ]
     },
     "execution_count": 24,
     "metadata": {},
     "output_type": "execute_result"
    }
   ],
   "source": [
    "# Examing the type of the Flight type\n",
    "df_crash['Flight type'].value_counts().head()"
   ]
  },
  {
   "cell_type": "markdown",
   "id": "4c056c1e-6c63-4c50-af02-8687fbc936f7",
   "metadata": {},
   "source": [
    "There are too many flight type. We will reduce the number of types based on https://skybrary.aero/articles/type-flight"
   ]
  },
  {
   "cell_type": "code",
   "execution_count": 25,
   "id": "18e8e562-d34a-438d-9972-02652eda263d",
   "metadata": {
    "tags": []
   },
   "outputs": [],
   "source": [
    "def flight_type(word):\n",
    "    if word == 'Scheduled Revenue Flight': return 'Commercial'\n",
    "    elif word == 'Military': return 'Military'\n",
    "    elif word == 'Cargo': return 'Commercial'\n",
    "    elif word == 'Charter/Taxi (Non Scheduled Revenue Flight)': return 'Commercial'\n",
    "    elif word == 'Executive/Corporate/Business': return 'Commercial'\n",
    "    elif word == 'Bombing': return 'Military'\n",
    "    elif word == 'Government': return 'Commercial'\n",
    "    else: return 'General Aviation'"
   ]
  },
  {
   "cell_type": "code",
   "execution_count": 26,
   "id": "548440be-ec6d-4242-90fc-0235f0f13a48",
   "metadata": {},
   "outputs": [],
   "source": [
    "df_crash['Flight type'] = df_crash['Flight type'].apply(flight_type)"
   ]
  },
  {
   "cell_type": "code",
   "execution_count": 27,
   "id": "dc03a037-10ee-4d64-8dbe-8dd4ff98e824",
   "metadata": {},
   "outputs": [
    {
     "data": {
      "text/plain": [
       "Commercial          11354\n",
       "General Aviation    10516\n",
       "Military             4568\n",
       "Name: Flight type, dtype: int64"
      ]
     },
     "execution_count": 27,
     "metadata": {},
     "output_type": "execute_result"
    }
   ],
   "source": [
    "# Final three types of flights\n",
    "df_crash['Flight type'].value_counts()"
   ]
  },
  {
   "cell_type": "code",
   "execution_count": 28,
   "id": "7c902743-e038-4911-9731-d766ebb76302",
   "metadata": {
    "tags": []
   },
   "outputs": [
    {
     "data": {
      "text/plain": [
       "Douglas C-47 Skytrain (DC-3)    1988\n",
       "PZL-Mielec AN-2                  681\n",
       "Curtiss C-46 Commando            554\n",
       "Avro 652 Anson                   496\n",
       "De Havilland DH.60 Moth          416\n",
       "Name: Aircraft, dtype: int64"
      ]
     },
     "execution_count": 28,
     "metadata": {},
     "output_type": "execute_result"
    }
   ],
   "source": [
    "# Examing the type of the aircrafts\n",
    "df_crash['Aircraft'].value_counts().head()"
   ]
  },
  {
   "cell_type": "code",
   "execution_count": 29,
   "id": "632902b5-f794-4895-8cea-c2470c573030",
   "metadata": {
    "tags": []
   },
   "outputs": [],
   "source": [
    "Aircraft_type = pd.DataFrame(df_crash['Aircraft'])"
   ]
  },
  {
   "cell_type": "code",
   "execution_count": 30,
   "id": "3062ca7b-d51e-4a5e-b4f2-91c3c7393566",
   "metadata": {},
   "outputs": [],
   "source": [
    "# Mannual combine some type of aircraft\n",
    "atrs = ['ATR42-200', 'ATR42-300', 'ATR42-500', 'ATR42-600', 'ATR2-200', 'ATR72-500', 'ATR72-600']\n",
    "final_atr = ['ATR ATR42-200', 'ATR ATR42-300', 'ATR ATR42-500', 'ATR ATR42-600', 'ATR ATR2-200', 'ATR ATR72-500', 'ATR ATR72-600']\n",
    "\n",
    "Aircraft_type['Aircraft'] = Aircraft_type['Aircraft'].replace(atrs, final_atr)"
   ]
  },
  {
   "cell_type": "code",
   "execution_count": 31,
   "id": "98249e48-5bc7-4aff-9abd-34e9ca3ee114",
   "metadata": {},
   "outputs": [],
   "source": [
    "# Deal with case issue for the same manufacturer\n",
    "Aircraft_type['Aircraft'] = Aircraft_type['Aircraft'].replace('Bae', 'BAe')"
   ]
  },
  {
   "cell_type": "code",
   "execution_count": 32,
   "id": "ec057508-e952-42b7-8cd5-b59fff947827",
   "metadata": {
    "tags": []
   },
   "outputs": [],
   "source": [
    "manufacturer = []\n",
    "for item in Aircraft_type['Aircraft']:\n",
    "    manufacturer.append(item.split(' ')[0])\n",
    "\n",
    "manufacturer = pd.DataFrame(manufacturer, columns = ['manufacturer'])"
   ]
  },
  {
   "cell_type": "code",
   "execution_count": 34,
   "id": "c61e4ec8-e849-478f-bade-6a46fe859460",
   "metadata": {
    "tags": []
   },
   "outputs": [],
   "source": [
    "# the only manufacturer with two words are De Havilland. Mannually fix. \n",
    "manufacturer = manufacturer.replace('De', 'De Havilland')"
   ]
  },
  {
   "cell_type": "code",
   "execution_count": 35,
   "id": "d1dc6176-1cc7-4836-80ee-1d8636200a38",
   "metadata": {},
   "outputs": [
    {
     "data": {
      "text/plain": [
       "244"
      ]
     },
     "execution_count": 35,
     "metadata": {},
     "output_type": "execute_result"
    }
   ],
   "source": [
    "# number of types of aircraft manufacturer. \n",
    "len(manufacturer['manufacturer'].value_counts())"
   ]
  },
  {
   "cell_type": "code",
   "execution_count": 36,
   "id": "43ae3620-0c66-4978-9ed9-e54a266105ba",
   "metadata": {
    "tags": []
   },
   "outputs": [],
   "source": [
    "df_crash['manufacturer'] = manufacturer['manufacturer']"
   ]
  },
  {
   "cell_type": "markdown",
   "id": "4656c17a-bd04-4291-beec-e254cd2d8e43",
   "metadata": {},
   "source": [
    "Major Datasets: \n",
    "\n",
    "1. df_crash (26438 rows): The dataset includes all crash records.\n",
    "2. df_comm (11354 rows):  The dataset only includes the crashes of commercial flights.\n",
    "3. df_jet (8936 rows):   The dataset only includes the crashes of commercial flights in jet age (after 1952). \n",
    "4. df_time (13566 rows):  The dataset only includes the crashes with the records of crash time HH:MM. "
   ]
  },
  {
   "cell_type": "code",
   "execution_count": 38,
   "id": "f7825f51-4e51-43ad-99c0-7507a48a8269",
   "metadata": {
    "tags": []
   },
   "outputs": [
    {
     "name": "stdout",
     "output_type": "stream",
     "text": [
      "<class 'pandas.core.frame.DataFrame'>\n",
      "Int64Index: 26438 entries, 0 to 27019\n",
      "Data columns (total 18 columns):\n",
      " #   Column           Non-Null Count  Dtype         \n",
      "---  ------           --------------  -----         \n",
      " 0   Date             26438 non-null  datetime64[ns]\n",
      " 1   Time             13566 non-null  object        \n",
      " 2   Aircraft         26438 non-null  object        \n",
      " 3   Operator         26438 non-null  object        \n",
      " 4   Flight phase     26211 non-null  object        \n",
      " 5   Flight type      26438 non-null  object        \n",
      " 6   Survivors        26438 non-null  float64       \n",
      " 7   Crash site       26340 non-null  object        \n",
      " 8   Crash location   26426 non-null  object        \n",
      " 9   Country          26438 non-null  object        \n",
      " 10  Region           26438 non-null  object        \n",
      " 11  Circumstances    26435 non-null  object        \n",
      " 12  Crash cause      26438 non-null  object        \n",
      " 13  aircraft_age     21785 non-null  float64       \n",
      " 14  people_on_board  26438 non-null  float64       \n",
      " 15  fatal_on_board   26438 non-null  float64       \n",
      " 16  num_survivor     26438 non-null  float64       \n",
      " 17  manufacturer     25864 non-null  object        \n",
      "dtypes: datetime64[ns](1), float64(5), object(12)\n",
      "memory usage: 3.8+ MB\n"
     ]
    }
   ],
   "source": [
    "df_crash.info()"
   ]
  },
  {
   "cell_type": "code",
   "execution_count": 39,
   "id": "1f9ca064-47d6-4cf5-8b34-0c2761a46eec",
   "metadata": {},
   "outputs": [
    {
     "data": {
      "text/plain": [
       "(26438, 18)"
      ]
     },
     "execution_count": 39,
     "metadata": {},
     "output_type": "execute_result"
    }
   ],
   "source": [
    "df_crash.shape"
   ]
  },
  {
   "cell_type": "code",
   "execution_count": 40,
   "id": "acf7ec10-5ee5-43a5-ad04-8ef2bc5017e6",
   "metadata": {
    "tags": []
   },
   "outputs": [],
   "source": [
    "df_comm = df_crash[df_crash['Flight type'] == 'Commercial']\n",
    "df_comm = df_comm.reset_index(drop = True)\n",
    "\n",
    "df_comm.shape"
   ]
  },
  {
   "cell_type": "code",
   "execution_count": 42,
   "id": "742c4706-e139-4b9d-b5ef-a6c9355d0cfb",
   "metadata": {
    "tags": []
   },
   "outputs": [],
   "source": [
    "# In commercial aviation the jet age was introduced to Britain in 1952 with the first scheduled flight of the de Havilland Comet airliner \n",
    "df_jet = df_crash[df_crash['Date'].dt.year >=1953]\n",
    "df_jet = df_jet[df_jet['Flight type'] == 'Commercial']\n",
    "df_jet = df_jet.reset_index(drop = True)\n",
    "\n",
    "df_jet.shape"
   ]
  },
  {
   "cell_type": "code",
   "execution_count": 44,
   "id": "f55204ee-3279-4914-9440-82fdc54d9e72",
   "metadata": {},
   "outputs": [],
   "source": [
    "df_time = df_crash.dropna(subset = ['Time'])\n",
    "df_time = df_time.reset_index(drop = True)\n",
    "\n",
    "df_time.shape"
   ]
  },
  {
   "cell_type": "code",
   "execution_count": 46,
   "id": "4e96cdd2-bab0-4e4d-b38b-513a3d64be96",
   "metadata": {
    "tags": []
   },
   "outputs": [],
   "source": [
    "df_crash.to_csv('data/all_crash_data.csv', index = False)\n",
    "df_comm.to_csv('data/comm_crash_data.csv', index = False)\n",
    "df_jet.to_csv('data/jet_crash_data.csv', index = False)\n",
    "df_time.to_csv('data/time_crash_data.csv', index = False)"
   ]
  },
  {
   "cell_type": "code",
   "execution_count": 300,
   "id": "afa7a44f-4be2-4932-b26c-571f6c52e179",
   "metadata": {},
   "outputs": [
    {
     "data": {
      "text/html": [
       "<div>\n",
       "<style scoped>\n",
       "    .dataframe tbody tr th:only-of-type {\n",
       "        vertical-align: middle;\n",
       "    }\n",
       "\n",
       "    .dataframe tbody tr th {\n",
       "        vertical-align: top;\n",
       "    }\n",
       "\n",
       "    .dataframe thead th {\n",
       "        text-align: right;\n",
       "    }\n",
       "</style>\n",
       "<table border=\"1\" class=\"dataframe\">\n",
       "  <thead>\n",
       "    <tr style=\"text-align: right;\">\n",
       "      <th></th>\n",
       "      <th>Survivors</th>\n",
       "      <th>aircraft_age</th>\n",
       "      <th>people_on_board</th>\n",
       "      <th>fatal_on_board</th>\n",
       "      <th>num_survivor</th>\n",
       "      <th>crash_time</th>\n",
       "    </tr>\n",
       "  </thead>\n",
       "  <tbody>\n",
       "    <tr>\n",
       "      <th>Survivors</th>\n",
       "      <td>1.000000</td>\n",
       "      <td>0.008400</td>\n",
       "      <td>0.112743</td>\n",
       "      <td>-0.160642</td>\n",
       "      <td>0.285466</td>\n",
       "      <td>-0.007553</td>\n",
       "    </tr>\n",
       "    <tr>\n",
       "      <th>aircraft_age</th>\n",
       "      <td>0.008400</td>\n",
       "      <td>1.000000</td>\n",
       "      <td>-0.020690</td>\n",
       "      <td>-0.013108</td>\n",
       "      <td>-0.015621</td>\n",
       "      <td>-0.008455</td>\n",
       "    </tr>\n",
       "    <tr>\n",
       "      <th>people_on_board</th>\n",
       "      <td>0.112743</td>\n",
       "      <td>-0.020690</td>\n",
       "      <td>1.000000</td>\n",
       "      <td>0.641496</td>\n",
       "      <td>0.749831</td>\n",
       "      <td>0.018763</td>\n",
       "    </tr>\n",
       "    <tr>\n",
       "      <th>fatal_on_board</th>\n",
       "      <td>-0.160642</td>\n",
       "      <td>-0.013108</td>\n",
       "      <td>0.641496</td>\n",
       "      <td>1.000000</td>\n",
       "      <td>-0.026540</td>\n",
       "      <td>0.004177</td>\n",
       "    </tr>\n",
       "    <tr>\n",
       "      <th>num_survivor</th>\n",
       "      <td>0.285466</td>\n",
       "      <td>-0.015621</td>\n",
       "      <td>0.749831</td>\n",
       "      <td>-0.026540</td>\n",
       "      <td>1.000000</td>\n",
       "      <td>0.020847</td>\n",
       "    </tr>\n",
       "    <tr>\n",
       "      <th>crash_time</th>\n",
       "      <td>-0.007553</td>\n",
       "      <td>-0.008455</td>\n",
       "      <td>0.018763</td>\n",
       "      <td>0.004177</td>\n",
       "      <td>0.020847</td>\n",
       "      <td>1.000000</td>\n",
       "    </tr>\n",
       "  </tbody>\n",
       "</table>\n",
       "</div>"
      ],
      "text/plain": [
       "                 Survivors  aircraft_age  people_on_board  fatal_on_board  \\\n",
       "Survivors         1.000000      0.008400         0.112743       -0.160642   \n",
       "aircraft_age      0.008400      1.000000        -0.020690       -0.013108   \n",
       "people_on_board   0.112743     -0.020690         1.000000        0.641496   \n",
       "fatal_on_board   -0.160642     -0.013108         0.641496        1.000000   \n",
       "num_survivor      0.285466     -0.015621         0.749831       -0.026540   \n",
       "crash_time       -0.007553     -0.008455         0.018763        0.004177   \n",
       "\n",
       "                 num_survivor  crash_time  \n",
       "Survivors            0.285466   -0.007553  \n",
       "aircraft_age        -0.015621   -0.008455  \n",
       "people_on_board      0.749831    0.018763  \n",
       "fatal_on_board      -0.026540    0.004177  \n",
       "num_survivor         1.000000    0.020847  \n",
       "crash_time           0.020847    1.000000  "
      ]
     },
     "execution_count": 300,
     "metadata": {},
     "output_type": "execute_result"
    }
   ],
   "source": [
    "df_time.corr()"
   ]
  },
  {
   "cell_type": "markdown",
   "id": "8336f38d-2ec5-4790-a09a-36ae5f9d110f",
   "metadata": {},
   "source": [
    "In common sense, we may guess the crash time (the time of the crash during a day) is related to the severness of the crash. \n",
    "However, the correlation shows the there's no relation between them. "
   ]
  },
  {
   "cell_type": "markdown",
   "id": "0bd9532c-c3bb-4918-a8f2-9d8ff4522282",
   "metadata": {},
   "source": [
    "## 2. EDA"
   ]
  },
  {
   "cell_type": "code",
   "execution_count": 47,
   "id": "c1bb4997-a3a5-4503-b556-e1311bea6820",
   "metadata": {},
   "outputs": [
    {
     "data": {
      "text/html": [
       "<div>\n",
       "<style scoped>\n",
       "    .dataframe tbody tr th:only-of-type {\n",
       "        vertical-align: middle;\n",
       "    }\n",
       "\n",
       "    .dataframe tbody tr th {\n",
       "        vertical-align: top;\n",
       "    }\n",
       "\n",
       "    .dataframe thead th {\n",
       "        text-align: right;\n",
       "    }\n",
       "</style>\n",
       "<table border=\"1\" class=\"dataframe\">\n",
       "  <thead>\n",
       "    <tr style=\"text-align: right;\">\n",
       "      <th></th>\n",
       "      <th>Date</th>\n",
       "      <th>Time</th>\n",
       "      <th>Aircraft</th>\n",
       "      <th>Operator</th>\n",
       "      <th>Flight phase</th>\n",
       "      <th>Flight type</th>\n",
       "      <th>Survivors</th>\n",
       "      <th>Crash site</th>\n",
       "      <th>Crash location</th>\n",
       "      <th>Country</th>\n",
       "      <th>Region</th>\n",
       "      <th>Circumstances</th>\n",
       "      <th>Crash cause</th>\n",
       "      <th>aircraft_age</th>\n",
       "      <th>people_on_board</th>\n",
       "      <th>fatal_on_board</th>\n",
       "      <th>num_survivor</th>\n",
       "      <th>manufacturer</th>\n",
       "    </tr>\n",
       "  </thead>\n",
       "  <tbody>\n",
       "    <tr>\n",
       "      <th>0</th>\n",
       "      <td>1918-05-02</td>\n",
       "      <td>NaN</td>\n",
       "      <td>De Havilland DH.4</td>\n",
       "      <td>United States Signal Corps - USSC</td>\n",
       "      <td>Takeoff (climb)</td>\n",
       "      <td>General Aviation</td>\n",
       "      <td>0.0</td>\n",
       "      <td>Airport (less than 10 km from airport)</td>\n",
       "      <td>Dayton-McCook Field Ohio</td>\n",
       "      <td>United States of America</td>\n",
       "      <td>North America</td>\n",
       "      <td>The single engine airplane departed Dayton-McC...</td>\n",
       "      <td>Technical failure</td>\n",
       "      <td>NaN</td>\n",
       "      <td>2.0</td>\n",
       "      <td>2.0</td>\n",
       "      <td>0.0</td>\n",
       "      <td>De Havilland</td>\n",
       "    </tr>\n",
       "    <tr>\n",
       "      <th>1</th>\n",
       "      <td>1918-06-08</td>\n",
       "      <td>NaN</td>\n",
       "      <td>Handley Page V/1500</td>\n",
       "      <td>Handley Page Aircraft Company Ltd</td>\n",
       "      <td>Takeoff (climb)</td>\n",
       "      <td>General Aviation</td>\n",
       "      <td>1.0</td>\n",
       "      <td>Airport (less than 10 km from airport)</td>\n",
       "      <td>Cricklewood London Metropolis</td>\n",
       "      <td>United Kingdom</td>\n",
       "      <td>Europe</td>\n",
       "      <td>Assembled at Cricklewood Airfield in May 1918,...</td>\n",
       "      <td>Technical failure</td>\n",
       "      <td>0.0</td>\n",
       "      <td>6.0</td>\n",
       "      <td>5.0</td>\n",
       "      <td>1.0</td>\n",
       "      <td>Handley</td>\n",
       "    </tr>\n",
       "  </tbody>\n",
       "</table>\n",
       "</div>"
      ],
      "text/plain": [
       "        Date Time             Aircraft                           Operator  \\\n",
       "0 1918-05-02  NaN    De Havilland DH.4  United States Signal Corps - USSC   \n",
       "1 1918-06-08  NaN  Handley Page V/1500  Handley Page Aircraft Company Ltd   \n",
       "\n",
       "      Flight phase       Flight type  Survivors  \\\n",
       "0  Takeoff (climb)  General Aviation        0.0   \n",
       "1  Takeoff (climb)  General Aviation        1.0   \n",
       "\n",
       "                               Crash site                 Crash location  \\\n",
       "0  Airport (less than 10 km from airport)       Dayton-McCook Field Ohio   \n",
       "1  Airport (less than 10 km from airport)  Cricklewood London Metropolis   \n",
       "\n",
       "                    Country         Region  \\\n",
       "0  United States of America  North America   \n",
       "1            United Kingdom         Europe   \n",
       "\n",
       "                                       Circumstances        Crash cause  \\\n",
       "0  The single engine airplane departed Dayton-McC...  Technical failure   \n",
       "1  Assembled at Cricklewood Airfield in May 1918,...  Technical failure   \n",
       "\n",
       "   aircraft_age  people_on_board  fatal_on_board  num_survivor  manufacturer  \n",
       "0           NaN              2.0             2.0           0.0  De Havilland  \n",
       "1           0.0              6.0             5.0           1.0       Handley  "
      ]
     },
     "execution_count": 47,
     "metadata": {},
     "output_type": "execute_result"
    }
   ],
   "source": [
    "df_crash.head(2)"
   ]
  },
  {
   "cell_type": "code",
   "execution_count": 50,
   "id": "c0c472c0-0ccf-4b86-a245-4c9870b13184",
   "metadata": {
    "tags": []
   },
   "outputs": [
    {
     "data": {
      "image/png": "[encoded data removed]",
      "text/plain": [
       "<Figure size 1440x576 with 1 Axes>"
      ]
     },
     "metadata": {
      "needs_background": "light"
     },
     "output_type": "display_data"
    }
   ],
   "source": [
    "plt.figure(figsize=(20, 8))\n",
    "plt.hist(df_crash['Date'].dt.year, bins = 100, histtype = 'step')\n",
    "plt.title('All Flight Crashes Since 1918');\n",
    "plt.savefig('image/All_crash.jpg')"
   ]
  },
  {
   "cell_type": "code",
   "execution_count": 51,
   "id": "d339ed72-162c-467f-bb5f-054336e0c890",
   "metadata": {},
   "outputs": [
    {
     "data": {
      "image/png": "[encoded data removed]",
      "text/plain": [
       "<Figure size 1440x576 with 1 Axes>"
      ]
     },
     "metadata": {
      "needs_background": "light"
     },
     "output_type": "display_data"
    }
   ],
   "source": [
    "plt.figure(figsize=(20, 8))\n",
    "plt.hist(df_comm['Date'].dt.year, bins = 100, histtype = 'step');\n",
    "plt.title('Commercial Flight Crashes Since 1918');\n",
    "plt.savefig('image/commercial_crash.jpg')"
   ]
  },
  {
   "cell_type": "code",
   "execution_count": 52,
   "id": "a9736195-1e54-4af7-b59d-54ea2aa99851",
   "metadata": {},
   "outputs": [
    {
     "data": {
      "image/png": "[encoded data removed]",
      "text/plain": [
       "<Figure size 1440x576 with 1 Axes>"
      ]
     },
     "metadata": {
      "needs_background": "light"
     },
     "output_type": "display_data"
    }
   ],
   "source": [
    "plt.figure(figsize=(20, 8))\n",
    "plt.plot(df_comm['Date'], df_comm['fatal_on_board'])\n",
    "plt.title('Number of Deaths in Air Crahses Since 1918');\n",
    "plt.savefig('image/Number_deaths.jpg')"
   ]
  },
  {
   "cell_type": "code",
   "execution_count": 53,
   "id": "b9516d71-62f0-44df-9ff7-777b64a1a01f",
   "metadata": {},
   "outputs": [
    {
     "data": {
      "image/png": "[encoded data removed]",
      "text/plain": [
       "<Figure size 1440x720 with 2 Axes>"
      ]
     },
     "metadata": {},
     "output_type": "display_data"
    }
   ],
   "source": [
    "flight_phase2 = pd.DataFrame(df_jet['Flight phase'].value_counts())\n",
    "flight_phase1 = pd.DataFrame(df_comm['Flight phase'].value_counts())\n",
    "\n",
    "plt.figure(figsize=(20, 10))\n",
    "plt.subplot(1, 2, 1)\n",
    "plt.pie(flight_phase1['Flight phase'], labels = flight_phase1.index, explode = [0.2, 0, 0, 0, 0], autopct = '%1.2f%%')\n",
    "# plt.title('Crashes by flight phase');\n",
    "\n",
    "plt.subplot(1, 2, 2)\n",
    "plt.pie(flight_phase2['Flight phase'], labels = flight_phase2.index, explode = [0.2, 0, 0, 0, 0], autopct = '%1.2f%%')\n",
    "# plt.title('Crashes by flight phase');\n",
    "plt.savefig('image/Commercial_Jet_crash_flight_phase.jpg')"
   ]
  },
  {
   "cell_type": "code",
   "execution_count": 54,
   "id": "679cf7e2-7b55-42c6-9c3c-2b1e5270baab",
   "metadata": {
    "tags": []
   },
   "outputs": [
    {
     "data": {
      "image/png": "[encoded data removed]",
      "text/plain": [
       "<Figure size 1440x720 with 2 Axes>"
      ]
     },
     "metadata": {},
     "output_type": "display_data"
    }
   ],
   "source": [
    "crash_location1 = pd.DataFrame(df_comm['Crash site'].value_counts())\n",
    "crash_location2 = pd.DataFrame(df_jet['Crash site'].value_counts())\n",
    "\n",
    "plt.figure(figsize=(20, 10))\n",
    "plt.subplot(1, 2, 1)\n",
    "plt.pie(crash_location1['Crash site'], labels = crash_location1.index, explode = [0.2, 0, 0, 0, 0, 0], autopct = '%1.2f%%')\n",
    "# plt.title('Crashes by crash location')\n",
    "\n",
    "plt.subplot(1, 2, 2)\n",
    "plt.pie(crash_location2['Crash site'], labels = crash_location2.index, explode = [0.2, 0, 0, 0, 0, 0], autopct = '%1.2f%%')\n",
    "# plt.title('Crashes by crash location');\n",
    "plt.savefig('image/Commercial_Jet_crash_location.jpg')"
   ]
  },
  {
   "cell_type": "code",
   "execution_count": 55,
   "id": "1bbce78b-e6ba-4026-bf57-066bf7e6dea6",
   "metadata": {
    "tags": []
   },
   "outputs": [
    {
     "data": {
      "image/png": "[encoded data removed]",
      "text/plain": [
       "<Figure size 1440x720 with 2 Axes>"
      ]
     },
     "metadata": {},
     "output_type": "display_data"
    }
   ],
   "source": [
    "crash_cause1 = pd.DataFrame(df_comm['Crash cause'].value_counts())\n",
    "crash_cause2 = pd.DataFrame(df_jet['Crash cause'].value_counts())\n",
    "\n",
    "plt.figure(figsize=(20, 10))\n",
    "plt.subplot(1, 2, 1)\n",
    "plt.pie(crash_cause1['Crash cause'], labels = crash_cause1.index, explode = [0.2, 0, 0, 0, 0, 0], autopct = '%1.2f%%')\n",
    "# plt.title('Crashes by crash cause')\n",
    "\n",
    "plt.subplot(1, 2, 2)\n",
    "plt.pie(crash_cause2['Crash cause'], labels = crash_cause2.index, explode = [0.2, 0, 0, 0, 0, 0], autopct = '%1.2f%%')\n",
    "# plt.title('Crashes by crash cause');\n",
    "plt.savefig('image/Commercial_Jet_crash_cause.jpg')"
   ]
  },
  {
   "cell_type": "code",
   "execution_count": 269,
   "id": "1c121d8e-87eb-4766-9b7e-a0b28e23b36f",
   "metadata": {},
   "outputs": [
    {
     "data": {
      "image/png": "[encoded data removed]",
      "text/plain": [
       "<Figure size 288x360 with 1 Axes>"
      ]
     },
     "metadata": {
      "needs_background": "light"
     },
     "output_type": "display_data"
    }
   ],
   "source": [
    "pd.DataFrame(df_jet['Operator'].value_counts()).head(10).plot(kind = 'barh', figsize = (4, 5), fontsize = 10, color = 'orange').invert_yaxis()\n",
    "plt.title('Crashes by Airlines in Jet Era', fontsize = 14);\n",
    "plt.savefig('image/Jet_crash_Airlines.jpg')"
   ]
  },
  {
   "cell_type": "code",
   "execution_count": 57,
   "id": "f478eff3-e59c-499f-aac7-aa2dc2e1b60e",
   "metadata": {},
   "outputs": [
    {
     "data": {
      "image/png": "[encoded data removed]",
      "text/plain": [
       "<Figure size 576x720 with 1 Axes>"
      ]
     },
     "metadata": {
      "needs_background": "light"
     },
     "output_type": "display_data"
    }
   ],
   "source": [
    "aircraft = pd.DataFrame(df_jet['manufacturer'].value_counts()).head(20).plot(kind = 'barh', figsize = (8, 10)).invert_yaxis()\n",
    "plt.title('Crashes by type of aircraft');\n",
    "plt.savefig('image/Jet_crash_manufacturer.jpg')"
   ]
  },
  {
   "cell_type": "markdown",
   "id": "496bbf2d-af34-4743-8d60-3c6cef708499",
   "metadata": {},
   "source": [
    "figure of the crash frequencies during a day"
   ]
  },
  {
   "cell_type": "code",
   "execution_count": 58,
   "id": "3737982b-49fb-47cb-9f63-eb1eb6485815",
   "metadata": {},
   "outputs": [],
   "source": [
    "time_crash = []\n",
    "for time in df_time['Time']:\n",
    "    hour = time.split('H')[0]\n",
    "    if len(hour) > 2:\n",
    "        hour = '0'\n",
    "    hour = int(hour)\n",
    "    time_crash.append(hour)\n",
    "\n",
    "time_crash = pd.DataFrame(time_crash, columns = ['Crash Time'])"
   ]
  },
  {
   "cell_type": "code",
   "execution_count": 59,
   "id": "d4c70e03-fb37-4dc6-8ca2-3e601bbdc769",
   "metadata": {},
   "outputs": [],
   "source": [
    "df_time['crash_time'] = time_crash['Crash Time']"
   ]
  },
  {
   "cell_type": "code",
   "execution_count": 127,
   "id": "9faaabf5-6493-442b-9628-1483c2e7787d",
   "metadata": {},
   "outputs": [
    {
     "data": {
      "image/png": "[encoded data removed]",
      "text/plain": [
       "<Figure size 1440x576 with 1 Axes>"
      ]
     },
     "metadata": {
      "needs_background": "light"
     },
     "output_type": "display_data"
    }
   ],
   "source": [
    "plt.figure(figsize=(20, 8))\n",
    "plt.hist(time_crash['Crash Time'], bins = 24, label='commercial flight crashes')\n",
    "plt.hist(df_time[df_time['Survivors'] == 0]['crash_time'], bins = 24, label='commercial flight crashes without survivors')\n",
    "plt.title('Number of crashes during a day ( 0 - 24h)')\n",
    "plt.legend();\n",
    "plt.savefig('image/time_crash_24h.jpg')"
   ]
  },
  {
   "cell_type": "markdown",
   "id": "cd140b17-9dca-46a7-b194-7ae8c0393afb",
   "metadata": {},
   "source": [
    "## 3. Model"
   ]
  },
  {
   "cell_type": "markdown",
   "id": "7abafa70-2418-4362-991f-44ab44a81c12",
   "metadata": {},
   "source": [
    "### 3.1. Study of df_crash Dataset"
   ]
  },
  {
   "cell_type": "code",
   "execution_count": 61,
   "id": "15c3ef81-c733-4f36-b7fe-ece81721b55a",
   "metadata": {},
   "outputs": [],
   "source": [
    "crash = df_crash\n",
    "\n",
    "# Only keep the year of the crashes\n",
    "crash['Year'] = crash['Date'].dt.year"
   ]
  },
  {
   "cell_type": "code",
   "execution_count": 190,
   "id": "36271c22-7ba0-455a-924a-b45c83565aa7",
   "metadata": {},
   "outputs": [
    {
     "data": {
      "text/plain": [
       "Human factor                          9750\n",
       "Unknown                               7501\n",
       "Technical failure                     5906\n",
       "Weather                               1502\n",
       "Terrorism act, Hijacking, Sabotage    1169\n",
       "Other causes                           610\n",
       "Name: Crash cause, dtype: int64"
      ]
     },
     "execution_count": 190,
     "metadata": {},
     "output_type": "execute_result"
    }
   ],
   "source": [
    "df_crash['Crash cause'].value_counts()"
   ]
  },
  {
   "cell_type": "code",
   "execution_count": 62,
   "id": "53dccd3b-498a-4fd2-ace7-e8deb0385cd0",
   "metadata": {},
   "outputs": [],
   "source": [
    "crash = crash.drop(columns = ['Date', 'Time', 'Aircraft', 'Crash location', 'Region', 'Circumstances', \n",
    "                                 'people_on_board', 'fatal_on_board', 'num_survivor' ])"
   ]
  },
  {
   "cell_type": "code",
   "execution_count": 63,
   "id": "fb4149d4-394c-4b18-a3bf-71cc074027b2",
   "metadata": {
    "tags": []
   },
   "outputs": [
    {
     "data": {
      "text/plain": [
       "Operator           0\n",
       "Flight phase     227\n",
       "Flight type        0\n",
       "Survivors          0\n",
       "Crash site        98\n",
       "Country            0\n",
       "Crash cause        0\n",
       "aircraft_age    4653\n",
       "manufacturer     574\n",
       "Year               0\n",
       "dtype: int64"
      ]
     },
     "execution_count": 63,
     "metadata": {},
     "output_type": "execute_result"
    }
   ],
   "source": [
    "crash.isna().sum()"
   ]
  },
  {
   "cell_type": "code",
   "execution_count": 64,
   "id": "bdab5946-72dd-4af2-b266-30981aa96982",
   "metadata": {
    "tags": []
   },
   "outputs": [
    {
     "data": {
      "text/plain": [
       "(26438, 10)"
      ]
     },
     "execution_count": 64,
     "metadata": {},
     "output_type": "execute_result"
    }
   ],
   "source": [
    "crash.shape"
   ]
  },
  {
   "cell_type": "code",
   "execution_count": 65,
   "id": "aef5dce5-47fb-4c5e-a2ab-28c96ae1331f",
   "metadata": {},
   "outputs": [],
   "source": [
    "X = crash.drop(columns = ['Survivors'])\n",
    "y = crash['Survivors']"
   ]
  },
  {
   "cell_type": "code",
   "execution_count": 66,
   "id": "c9661400-074f-47e4-854d-8922fbb5ca8b",
   "metadata": {},
   "outputs": [],
   "source": [
    "X_train, X_test, y_train, y_test = train_test_split(X, y, random_state = 42, stratify = y)"
   ]
  },
  {
   "cell_type": "code",
   "execution_count": 67,
   "id": "17b70b3d-4422-40d6-88d3-99d6fd2ecb4a",
   "metadata": {},
   "outputs": [
    {
     "data": {
      "text/plain": [
       "((19828, 9), (6610, 9))"
      ]
     },
     "execution_count": 67,
     "metadata": {},
     "output_type": "execute_result"
    }
   ],
   "source": [
    "X_train.shape, X_test.shape"
   ]
  },
  {
   "cell_type": "markdown",
   "id": "94f170bc-118c-40d8-8f77-cfb76464fbbc",
   "metadata": {},
   "source": [
    "#### Baseline Model"
   ]
  },
  {
   "cell_type": "code",
   "execution_count": 68,
   "id": "2c9f6bde-9c1b-41cf-93a3-bc1c993c7a92",
   "metadata": {},
   "outputs": [
    {
     "data": {
      "text/plain": [
       "1.0    0.574325\n",
       "0.0    0.425675\n",
       "Name: Survivors, dtype: float64"
      ]
     },
     "execution_count": 68,
     "metadata": {},
     "output_type": "execute_result"
    }
   ],
   "source": [
    "y.value_counts(normalize = True)"
   ]
  },
  {
   "cell_type": "code",
   "execution_count": null,
   "id": "0f2e89f1-e6a1-4f20-a51a-4f43effaf9d9",
   "metadata": {},
   "outputs": [],
   "source": []
  },
  {
   "cell_type": "code",
   "execution_count": 69,
   "id": "decc4d18-ad66-43b5-bab6-fbafe438d1a5",
   "metadata": {},
   "outputs": [],
   "source": [
    "si = SimpleImputer(strategy = 'most_frequent')"
   ]
  },
  {
   "cell_type": "code",
   "execution_count": 70,
   "id": "67280a80-c3fb-430b-a984-453e55066ff2",
   "metadata": {},
   "outputs": [],
   "source": [
    "si.fit(X_train)\n",
    "X_train_fill = si.transform(X_train)\n",
    "X_train_fill = pd.DataFrame(X_train_fill, columns = X_train.columns)"
   ]
  },
  {
   "cell_type": "code",
   "execution_count": 71,
   "id": "f9927f9a-a646-4adf-8c26-49638023f222",
   "metadata": {},
   "outputs": [],
   "source": [
    "X_test_fill = si.transform(X_test)\n",
    "X_test_fill = pd.DataFrame(X_test_fill, columns = si.feature_names_in_)"
   ]
  },
  {
   "cell_type": "code",
   "execution_count": 72,
   "id": "f66f2c54-44a3-476c-ab01-b5820a8802e4",
   "metadata": {},
   "outputs": [
    {
     "data": {
      "text/plain": [
       "(0, 0)"
      ]
     },
     "execution_count": 72,
     "metadata": {},
     "output_type": "execute_result"
    }
   ],
   "source": [
    "X_train_fill.isna().sum().sum(), X_test_fill.isna().sum().sum()"
   ]
  },
  {
   "cell_type": "code",
   "execution_count": 73,
   "id": "a5315d87-03b7-4013-b6e4-b3223e27a9f3",
   "metadata": {},
   "outputs": [],
   "source": [
    "ohe = OneHotEncoder(drop = 'if_binary', handle_unknown = 'ignore', sparse = False)"
   ]
  },
  {
   "cell_type": "code",
   "execution_count": 74,
   "id": "5c406044-3df6-4123-a870-42231d789ff0",
   "metadata": {},
   "outputs": [],
   "source": [
    "encoder = make_column_transformer(\n",
    "    (ohe, ['Operator', 'Flight phase', 'Flight type', 'Crash site', 'Crash cause', 'Country', 'manufacturer']),\n",
    "    remainder = 'passthrough',\n",
    "    verbose_feature_names_out = False\n",
    ")"
   ]
  },
  {
   "cell_type": "code",
   "execution_count": 75,
   "id": "67e61889-65d3-417d-bc50-5b8f053f77f9",
   "metadata": {},
   "outputs": [],
   "source": [
    "X_train_enc = encoder.fit_transform(X_train_fill)\n",
    "X_train_enc = pd.DataFrame(X_train_enc, columns = encoder.get_feature_names_out())"
   ]
  },
  {
   "cell_type": "code",
   "execution_count": 76,
   "id": "11ffe88a-505a-4a1c-915d-535a4a64627f",
   "metadata": {},
   "outputs": [
    {
     "name": "stderr",
     "output_type": "stream",
     "text": [
      "/opt/anaconda3/lib/python3.9/site-packages/sklearn/preprocessing/_encoders.py:170: UserWarning: Found unknown categories in columns [0, 5, 6] during transform. These unknown categories will be encoded as all zeros\n",
      "  warnings.warn(\n"
     ]
    }
   ],
   "source": [
    "X_test_enc = encoder.transform(X_test_fill)\n",
    "X_test_enc = pd.DataFrame(X_test_enc, columns = encoder.get_feature_names_out())"
   ]
  },
  {
   "cell_type": "code",
   "execution_count": 77,
   "id": "8dce8fe8-05f8-4188-8e52-61aff0e34c4a",
   "metadata": {},
   "outputs": [
    {
     "data": {
      "text/plain": [
       "((19828, 7485), (6610, 7485))"
      ]
     },
     "execution_count": 77,
     "metadata": {},
     "output_type": "execute_result"
    }
   ],
   "source": [
    "X_train_enc.shape, X_test_enc.shape"
   ]
  },
  {
   "cell_type": "code",
   "execution_count": 78,
   "id": "7410672d-3cf2-4e25-9e29-d9938e577b5f",
   "metadata": {},
   "outputs": [],
   "source": [
    "ss = StandardScaler()"
   ]
  },
  {
   "cell_type": "code",
   "execution_count": 79,
   "id": "6106d549-22af-4e94-a65b-2b9a02bc6cbf",
   "metadata": {},
   "outputs": [],
   "source": [
    "X_train_ss = ss.fit_transform(X_train_enc)\n",
    "X_train_ss = pd.DataFrame(X_train_ss, columns = ss.get_feature_names_out())"
   ]
  },
  {
   "cell_type": "code",
   "execution_count": 80,
   "id": "2bf2c02f-7f22-4849-9d9a-b20ec282e8ea",
   "metadata": {},
   "outputs": [],
   "source": [
    "X_test_ss = ss.transform(X_test_enc)\n",
    "X_test_ss = pd.DataFrame(X_test_ss, columns = ss.get_feature_names_out())"
   ]
  },
  {
   "cell_type": "code",
   "execution_count": 81,
   "id": "4a752acc-4357-4af8-8c2f-d1ee14867f8b",
   "metadata": {},
   "outputs": [
    {
     "data": {
      "text/plain": [
       "((19828, 7485), (6610, 7485))"
      ]
     },
     "execution_count": 81,
     "metadata": {},
     "output_type": "execute_result"
    }
   ],
   "source": [
    "X_train_ss.shape, X_test_ss.shape"
   ]
  },
  {
   "cell_type": "code",
   "execution_count": null,
   "id": "eff52de3-4232-4f5b-aa71-33342cd4ad8f",
   "metadata": {},
   "outputs": [],
   "source": []
  },
  {
   "cell_type": "code",
   "execution_count": 82,
   "id": "f6e7de07-cbc3-43b3-bdf4-0bea120f2442",
   "metadata": {
    "tags": []
   },
   "outputs": [],
   "source": [
    "log = LogisticRegression(max_iter = 10000)"
   ]
  },
  {
   "cell_type": "code",
   "execution_count": 83,
   "id": "d5aa82ac-aca1-414b-a7c0-2bb8b2f8b2db",
   "metadata": {},
   "outputs": [
    {
     "data": {
      "text/plain": [
       "LogisticRegression(max_iter=10000)"
      ]
     },
     "execution_count": 83,
     "metadata": {},
     "output_type": "execute_result"
    }
   ],
   "source": [
    "log.fit(X_train_ss, y_train)"
   ]
  },
  {
   "cell_type": "code",
   "execution_count": 84,
   "id": "5f8bcd1a-d744-410f-a533-e1eea4229b91",
   "metadata": {},
   "outputs": [
    {
     "data": {
      "text/plain": [
       "(0.8200020173492032, 0.6579425113464448)"
      ]
     },
     "execution_count": 84,
     "metadata": {},
     "output_type": "execute_result"
    }
   ],
   "source": [
    "log.score(X_train_ss, y_train), log.score(X_test_ss, y_test)"
   ]
  },
  {
   "cell_type": "code",
   "execution_count": 86,
   "id": "45a33658-1633-483e-ba6f-d36620ad6a28",
   "metadata": {},
   "outputs": [
    {
     "data": {
      "image/png": "[encoded data removed]",
      "text/plain": [
       "<Figure size 432x288 with 2 Axes>"
      ]
     },
     "metadata": {
      "needs_background": "light"
     },
     "output_type": "display_data"
    }
   ],
   "source": [
    "ConfusionMatrixDisplay.from_estimator(log, X_test_ss, y_test, normalize = 'true', cmap = 'Oranges');"
   ]
  },
  {
   "cell_type": "code",
   "execution_count": 87,
   "id": "e380d793-af79-4454-a519-e4cf206ffec0",
   "metadata": {},
   "outputs": [],
   "source": [
    "coef = pd.DataFrame(list(zip(log.feature_names_in_, log.coef_[0])))\n",
    "coef.columns = ['parameter', 'coefficient']"
   ]
  },
  {
   "cell_type": "code",
   "execution_count": 88,
   "id": "6edfb9cb-9621-429f-adfe-d0f774729daf",
   "metadata": {
    "tags": []
   },
   "outputs": [
    {
     "data": {
      "text/html": [
       "<div>\n",
       "<style scoped>\n",
       "    .dataframe tbody tr th:only-of-type {\n",
       "        vertical-align: middle;\n",
       "    }\n",
       "\n",
       "    .dataframe tbody tr th {\n",
       "        vertical-align: top;\n",
       "    }\n",
       "\n",
       "    .dataframe thead th {\n",
       "        text-align: right;\n",
       "    }\n",
       "</style>\n",
       "<table border=\"1\" class=\"dataframe\">\n",
       "  <thead>\n",
       "    <tr style=\"text-align: right;\">\n",
       "      <th></th>\n",
       "      <th>parameter</th>\n",
       "      <th>coefficient</th>\n",
       "    </tr>\n",
       "  </thead>\n",
       "  <tbody>\n",
       "    <tr>\n",
       "      <th>7028</th>\n",
       "      <td>Crash site_Mountains</td>\n",
       "      <td>-0.418659</td>\n",
       "    </tr>\n",
       "    <tr>\n",
       "      <th>7068</th>\n",
       "      <td>Country_Cameroon</td>\n",
       "      <td>-0.292537</td>\n",
       "    </tr>\n",
       "    <tr>\n",
       "      <th>7198</th>\n",
       "      <td>Country_Saint Vincent and Grenadines</td>\n",
       "      <td>-0.229846</td>\n",
       "    </tr>\n",
       "    <tr>\n",
       "      <th>7310</th>\n",
       "      <td>manufacturer_Comp</td>\n",
       "      <td>-0.224546</td>\n",
       "    </tr>\n",
       "    <tr>\n",
       "      <th>7413</th>\n",
       "      <td>manufacturer_PAC</td>\n",
       "      <td>-0.222122</td>\n",
       "    </tr>\n",
       "    <tr>\n",
       "      <th>7016</th>\n",
       "      <td>Flight phase_Flight</td>\n",
       "      <td>-0.192310</td>\n",
       "    </tr>\n",
       "    <tr>\n",
       "      <th>7196</th>\n",
       "      <td>Country_Saint Lucia</td>\n",
       "      <td>-0.181561</td>\n",
       "    </tr>\n",
       "    <tr>\n",
       "      <th>7030</th>\n",
       "      <td>Crash cause_Human factor</td>\n",
       "      <td>-0.173628</td>\n",
       "    </tr>\n",
       "    <tr>\n",
       "      <th>7481</th>\n",
       "      <td>manufacturer_Xian</td>\n",
       "      <td>-0.160891</td>\n",
       "    </tr>\n",
       "    <tr>\n",
       "      <th>6110</th>\n",
       "      <td>Operator_Tahiti Conquest Airlines</td>\n",
       "      <td>-0.157223</td>\n",
       "    </tr>\n",
       "  </tbody>\n",
       "</table>\n",
       "</div>"
      ],
      "text/plain": [
       "                                 parameter  coefficient\n",
       "7028                  Crash site_Mountains    -0.418659\n",
       "7068                      Country_Cameroon    -0.292537\n",
       "7198  Country_Saint Vincent and Grenadines    -0.229846\n",
       "7310                     manufacturer_Comp    -0.224546\n",
       "7413                      manufacturer_PAC    -0.222122\n",
       "7016                   Flight phase_Flight    -0.192310\n",
       "7196                   Country_Saint Lucia    -0.181561\n",
       "7030              Crash cause_Human factor    -0.173628\n",
       "7481                     manufacturer_Xian    -0.160891\n",
       "6110     Operator_Tahiti Conquest Airlines    -0.157223"
      ]
     },
     "execution_count": 88,
     "metadata": {},
     "output_type": "execute_result"
    }
   ],
   "source": [
    "coef.sort_values(by = 'coefficient').head(10)"
   ]
  },
  {
   "cell_type": "code",
   "execution_count": 89,
   "id": "a6205757-3c2e-4990-9ae3-ea9e25512216",
   "metadata": {},
   "outputs": [
    {
     "data": {
      "text/html": [
       "<div>\n",
       "<style scoped>\n",
       "    .dataframe tbody tr th:only-of-type {\n",
       "        vertical-align: middle;\n",
       "    }\n",
       "\n",
       "    .dataframe tbody tr th {\n",
       "        vertical-align: top;\n",
       "    }\n",
       "\n",
       "    .dataframe thead th {\n",
       "        text-align: right;\n",
       "    }\n",
       "</style>\n",
       "<table border=\"1\" class=\"dataframe\">\n",
       "  <thead>\n",
       "    <tr style=\"text-align: right;\">\n",
       "      <th></th>\n",
       "      <th>parameter</th>\n",
       "      <th>coefficient</th>\n",
       "    </tr>\n",
       "  </thead>\n",
       "  <tbody>\n",
       "    <tr>\n",
       "      <th>7018</th>\n",
       "      <td>Flight phase_Parking</td>\n",
       "      <td>0.179359</td>\n",
       "    </tr>\n",
       "    <tr>\n",
       "      <th>7236</th>\n",
       "      <td>Country_US Virgin Islands</td>\n",
       "      <td>0.182002</td>\n",
       "    </tr>\n",
       "    <tr>\n",
       "      <th>7020</th>\n",
       "      <td>Flight phase_Taxiing</td>\n",
       "      <td>0.184362</td>\n",
       "    </tr>\n",
       "    <tr>\n",
       "      <th>5095</th>\n",
       "      <td>Operator_Québecair</td>\n",
       "      <td>0.192596</td>\n",
       "    </tr>\n",
       "    <tr>\n",
       "      <th>1540</th>\n",
       "      <td>Operator_Cameroon Airlines</td>\n",
       "      <td>0.203005</td>\n",
       "    </tr>\n",
       "    <tr>\n",
       "      <th>7017</th>\n",
       "      <td>Flight phase_Landing (descent or approach)</td>\n",
       "      <td>0.209367</td>\n",
       "    </tr>\n",
       "    <tr>\n",
       "      <th>7104</th>\n",
       "      <td>Country_French Polynesia</td>\n",
       "      <td>0.276281</td>\n",
       "    </tr>\n",
       "    <tr>\n",
       "      <th>7130</th>\n",
       "      <td>Country_Jamaica</td>\n",
       "      <td>0.302144</td>\n",
       "    </tr>\n",
       "    <tr>\n",
       "      <th>7032</th>\n",
       "      <td>Crash cause_Technical failure</td>\n",
       "      <td>0.309554</td>\n",
       "    </tr>\n",
       "    <tr>\n",
       "      <th>7024</th>\n",
       "      <td>Crash site_Airport (less than 10 km from airport)</td>\n",
       "      <td>0.350581</td>\n",
       "    </tr>\n",
       "  </tbody>\n",
       "</table>\n",
       "</div>"
      ],
      "text/plain": [
       "                                              parameter  coefficient\n",
       "7018                               Flight phase_Parking     0.179359\n",
       "7236                          Country_US Virgin Islands     0.182002\n",
       "7020                               Flight phase_Taxiing     0.184362\n",
       "5095                                 Operator_Québecair     0.192596\n",
       "1540                         Operator_Cameroon Airlines     0.203005\n",
       "7017         Flight phase_Landing (descent or approach)     0.209367\n",
       "7104                           Country_French Polynesia     0.276281\n",
       "7130                                    Country_Jamaica     0.302144\n",
       "7032                      Crash cause_Technical failure     0.309554\n",
       "7024  Crash site_Airport (less than 10 km from airport)     0.350581"
      ]
     },
     "execution_count": 89,
     "metadata": {},
     "output_type": "execute_result"
    }
   ],
   "source": [
    "coef.sort_values(by = 'coefficient').tail(10)"
   ]
  },
  {
   "cell_type": "markdown",
   "id": "2c6f8325-b131-430a-8038-f6355928481f",
   "metadata": {},
   "source": [
    "### 3.2. Study of df_comm Dataset"
   ]
  },
  {
   "cell_type": "code",
   "execution_count": 90,
   "id": "b4cb0e5a-6fba-443f-a866-d7024c6f9c02",
   "metadata": {},
   "outputs": [
    {
     "name": "stdout",
     "output_type": "stream",
     "text": [
      "<class 'pandas.core.frame.DataFrame'>\n",
      "RangeIndex: 11354 entries, 0 to 11353\n",
      "Data columns (total 19 columns):\n",
      " #   Column           Non-Null Count  Dtype         \n",
      "---  ------           --------------  -----         \n",
      " 0   Date             11354 non-null  datetime64[ns]\n",
      " 1   Time             6944 non-null   object        \n",
      " 2   Aircraft         11354 non-null  object        \n",
      " 3   Operator         11354 non-null  object        \n",
      " 4   Flight phase     11225 non-null  object        \n",
      " 5   Flight type      11354 non-null  object        \n",
      " 6   Survivors        11354 non-null  float64       \n",
      " 7   Crash site       11324 non-null  object        \n",
      " 8   Crash location   11349 non-null  object        \n",
      " 9   Country          11354 non-null  object        \n",
      " 10  Region           11354 non-null  object        \n",
      " 11  Circumstances    11353 non-null  object        \n",
      " 12  Crash cause      11354 non-null  object        \n",
      " 13  aircraft_age     10764 non-null  float64       \n",
      " 14  people_on_board  11354 non-null  float64       \n",
      " 15  fatal_on_board   11354 non-null  float64       \n",
      " 16  num_survivor     11354 non-null  float64       \n",
      " 17  manufacturer     11136 non-null  object        \n",
      " 18  Year             11354 non-null  int64         \n",
      "dtypes: datetime64[ns](1), float64(5), int64(1), object(12)\n",
      "memory usage: 1.6+ MB\n"
     ]
    }
   ],
   "source": [
    "comm = df_comm\n",
    "comm['Year'] = comm['Date'].dt.year\n",
    "comm.info()"
   ]
  },
  {
   "cell_type": "code",
   "execution_count": 189,
   "id": "af8660da-9dd4-49e5-b1a1-3add12467426",
   "metadata": {},
   "outputs": [
    {
     "data": {
      "text/plain": [
       "Human factor                          4868\n",
       "Technical failure                     2702\n",
       "Unknown                               2446\n",
       "Weather                                744\n",
       "Other causes                           378\n",
       "Terrorism act, Hijacking, Sabotage     216\n",
       "Name: Crash cause, dtype: int64"
      ]
     },
     "execution_count": 189,
     "metadata": {},
     "output_type": "execute_result"
    }
   ],
   "source": [
    "df_comm['Crash cause'].value_counts()"
   ]
  },
  {
   "cell_type": "code",
   "execution_count": null,
   "id": "f15f4fe4-2af1-401f-ae60-4539865c5b17",
   "metadata": {},
   "outputs": [],
   "source": []
  },
  {
   "cell_type": "code",
   "execution_count": 91,
   "id": "b1b77bff-2c10-4277-bea0-f35b7622ca7f",
   "metadata": {},
   "outputs": [],
   "source": [
    "comm = comm.drop(columns = ['Date', 'Time', 'Aircraft', 'Crash location', 'Region', 'Circumstances', \n",
    "                                 'Flight type', 'people_on_board', 'fatal_on_board', 'num_survivor' ])"
   ]
  },
  {
   "cell_type": "code",
   "execution_count": 92,
   "id": "fa00cccd-5791-4e2e-90f6-65bee8398332",
   "metadata": {},
   "outputs": [
    {
     "data": {
      "text/plain": [
       "Operator          0\n",
       "Flight phase    129\n",
       "Survivors         0\n",
       "Crash site       30\n",
       "Country           0\n",
       "Crash cause       0\n",
       "aircraft_age    590\n",
       "manufacturer    218\n",
       "Year              0\n",
       "dtype: int64"
      ]
     },
     "execution_count": 92,
     "metadata": {},
     "output_type": "execute_result"
    }
   ],
   "source": [
    "comm.isna().sum()"
   ]
  },
  {
   "cell_type": "code",
   "execution_count": 93,
   "id": "6a5ff101-879b-4790-b9d8-928edd5e9cde",
   "metadata": {},
   "outputs": [
    {
     "data": {
      "text/plain": [
       "(11354, 9)"
      ]
     },
     "execution_count": 93,
     "metadata": {},
     "output_type": "execute_result"
    }
   ],
   "source": [
    "comm.shape"
   ]
  },
  {
   "cell_type": "code",
   "execution_count": 94,
   "id": "0e8f4f86-e955-4e7c-a7ec-46e27b7b271c",
   "metadata": {},
   "outputs": [],
   "source": [
    "X = comm.drop(columns = ['Survivors'])\n",
    "y = comm['Survivors']"
   ]
  },
  {
   "cell_type": "code",
   "execution_count": 95,
   "id": "f63d7490-db82-4dd3-82f3-1b4fb67d36d8",
   "metadata": {},
   "outputs": [],
   "source": [
    "X_train, X_test, y_train, y_test = train_test_split(X, y, random_state = 42, stratify = y)"
   ]
  },
  {
   "cell_type": "code",
   "execution_count": 96,
   "id": "f288e70a-98a1-4a05-8dad-617a81181cb4",
   "metadata": {},
   "outputs": [
    {
     "data": {
      "text/plain": [
       "1.0    0.636868\n",
       "0.0    0.363132\n",
       "Name: Survivors, dtype: float64"
      ]
     },
     "execution_count": 96,
     "metadata": {},
     "output_type": "execute_result"
    }
   ],
   "source": [
    "y.value_counts(normalize = True)"
   ]
  },
  {
   "cell_type": "code",
   "execution_count": 97,
   "id": "45734814-9812-4e7a-8d1e-50bd34a01e7b",
   "metadata": {},
   "outputs": [],
   "source": [
    "si = SimpleImputer(strategy = 'most_frequent')"
   ]
  },
  {
   "cell_type": "code",
   "execution_count": 98,
   "id": "a571ac68-ef9a-464b-898d-be96c2aa2689",
   "metadata": {},
   "outputs": [],
   "source": [
    "si.fit(X_train)\n",
    "X_train_fill = si.transform(X_train)\n",
    "X_train_fill = pd.DataFrame(X_train_fill, columns = X_train.columns)\n",
    "\n",
    "X_test_fill = si.transform(X_test)\n",
    "X_test_fill = pd.DataFrame(X_test_fill, columns = si.feature_names_in_)"
   ]
  },
  {
   "cell_type": "code",
   "execution_count": 99,
   "id": "2ad37234-4369-4f70-b12c-6360532f2915",
   "metadata": {},
   "outputs": [],
   "source": [
    "ohe = OneHotEncoder(drop = 'if_binary', handle_unknown = 'ignore', sparse = False)"
   ]
  },
  {
   "cell_type": "code",
   "execution_count": 100,
   "id": "fac17500-81bb-455b-a6f3-d31caf1ea11c",
   "metadata": {},
   "outputs": [],
   "source": [
    "encoder = make_column_transformer(\n",
    "    (ohe, ['Operator', 'Flight phase', 'Crash site', 'Crash cause', 'Country', 'manufacturer']),\n",
    "    remainder = 'passthrough',\n",
    "    verbose_feature_names_out = False\n",
    ")"
   ]
  },
  {
   "cell_type": "code",
   "execution_count": 101,
   "id": "a7740136-5469-4873-a493-c82b4d8c7ed3",
   "metadata": {
    "tags": []
   },
   "outputs": [
    {
     "name": "stderr",
     "output_type": "stream",
     "text": [
      "/opt/anaconda3/lib/python3.9/site-packages/sklearn/preprocessing/_encoders.py:170: UserWarning: Found unknown categories in columns [0, 4, 5] during transform. These unknown categories will be encoded as all zeros\n",
      "  warnings.warn(\n"
     ]
    }
   ],
   "source": [
    "X_train_enc = encoder.fit_transform(X_train_fill)\n",
    "X_train_enc = pd.DataFrame(X_train_enc, columns = encoder.get_feature_names_out())\n",
    "\n",
    "X_test_enc = encoder.transform(X_test_fill)\n",
    "X_test_enc = pd.DataFrame(X_test_enc, columns = encoder.get_feature_names_out())"
   ]
  },
  {
   "cell_type": "markdown",
   "id": "cd741c95-56b3-4e76-87b3-43361b0e51fc",
   "metadata": {},
   "source": [
    "#### 3.2.1. Logistic Regression"
   ]
  },
  {
   "cell_type": "code",
   "execution_count": 102,
   "id": "550a8ef2-16ac-4180-82da-8287e0501b34",
   "metadata": {
    "tags": []
   },
   "outputs": [],
   "source": [
    "pipe1 = make_pipeline(StandardScaler(), LogisticRegression(max_iter = 10000))"
   ]
  },
  {
   "cell_type": "code",
   "execution_count": 103,
   "id": "60e374b5-448f-4622-ab44-163e3c33e71e",
   "metadata": {},
   "outputs": [
    {
     "data": {
      "text/plain": [
       "Pipeline(steps=[('standardscaler', StandardScaler()),\n",
       "                ('logisticregression', LogisticRegression(max_iter=10000))])"
      ]
     },
     "execution_count": 103,
     "metadata": {},
     "output_type": "execute_result"
    }
   ],
   "source": [
    "pipe1.fit(X_train_enc, y_train)"
   ]
  },
  {
   "cell_type": "code",
   "execution_count": 104,
   "id": "9ea7c819-f858-4cab-800b-eed2a013e397",
   "metadata": {},
   "outputs": [
    {
     "data": {
      "text/plain": [
       "(0.8881972988843218, 0.6671363156040859)"
      ]
     },
     "execution_count": 104,
     "metadata": {},
     "output_type": "execute_result"
    }
   ],
   "source": [
    "pipe1.score(X_train_enc, y_train), pipe1.score(X_test_enc, y_test)"
   ]
  },
  {
   "cell_type": "code",
   "execution_count": 105,
   "id": "9aa33699-6f92-4d22-bfe2-d93a965f0506",
   "metadata": {
    "tags": []
   },
   "outputs": [
    {
     "data": {
      "text/plain": [
       "(0.6490898414562538, 0.652350522890429)"
      ]
     },
     "execution_count": 105,
     "metadata": {},
     "output_type": "execute_result"
    }
   ],
   "source": [
    "cross_val_score(pipe1, X_train_enc, y_train).mean(), cross_val_score(pipe1, X_test_enc, y_test).mean()"
   ]
  },
  {
   "cell_type": "code",
   "execution_count": 144,
   "id": "5e7e5611-6a26-4c3c-9816-71134192297b",
   "metadata": {},
   "outputs": [
    {
     "data": {
      "text/plain": [
       "(0.8961545277334751, 0.7021077283372366)"
      ]
     },
     "execution_count": 144,
     "metadata": {},
     "output_type": "execute_result"
    }
   ],
   "source": [
    "precision_score(y_train, pipe1.predict(X_train_enc)), precision_score(y_test, pipe1.predict(X_test_enc))"
   ]
  },
  {
   "cell_type": "code",
   "execution_count": 213,
   "id": "3439d66e-d0cb-403c-a796-0853afe5bae9",
   "metadata": {
    "tags": []
   },
   "outputs": [
    {
     "data": {
      "image/png": "[encoded data removed]",
      "text/plain": [
       "<Figure size 432x288 with 2 Axes>"
      ]
     },
     "metadata": {
      "needs_background": "light"
     },
     "output_type": "display_data"
    }
   ],
   "source": [
    "Log = ConfusionMatrixDisplay.from_estimator(pipe1, X_test_enc, y_test, normalize = 'true', cmap = 'Blues')\n",
    "Log\n",
    "plt.title('Confusion Matrix: Logistic Regression');"
   ]
  },
  {
   "cell_type": "code",
   "execution_count": 215,
   "id": "b878282b-eead-4cfe-8a9a-01facbff8d94",
   "metadata": {},
   "outputs": [],
   "source": [
    "Log.figure_.savefig('image/log_confusion.jpg', dpi = 100)"
   ]
  },
  {
   "cell_type": "code",
   "execution_count": 256,
   "id": "464bbb32-dfbd-492f-a948-c49f0490308e",
   "metadata": {
    "tags": []
   },
   "outputs": [],
   "source": [
    "pipe1.named_steps['logisticregression'].coef_\n",
    "coef = pd.DataFrame(list(zip(pipe1.feature_names_in_, pipe1.named_steps['logisticregression'].coef_[0])))\n",
    "coef.columns = ['parameter', 'coefficient']"
   ]
  },
  {
   "cell_type": "code",
   "execution_count": 257,
   "id": "fd2b82ed-9f53-4340-8230-f2e656d1b87d",
   "metadata": {},
   "outputs": [
    {
     "data": {
      "text/html": [
       "<div>\n",
       "<style scoped>\n",
       "    .dataframe tbody tr th:only-of-type {\n",
       "        vertical-align: middle;\n",
       "    }\n",
       "\n",
       "    .dataframe tbody tr th {\n",
       "        vertical-align: top;\n",
       "    }\n",
       "\n",
       "    .dataframe thead th {\n",
       "        text-align: right;\n",
       "    }\n",
       "</style>\n",
       "<table border=\"1\" class=\"dataframe\">\n",
       "  <thead>\n",
       "    <tr style=\"text-align: right;\">\n",
       "      <th></th>\n",
       "      <th>parameter</th>\n",
       "      <th>coefficient</th>\n",
       "    </tr>\n",
       "  </thead>\n",
       "  <tbody>\n",
       "    <tr>\n",
       "      <th>4071</th>\n",
       "      <td>Crash site_Mountains</td>\n",
       "      <td>-0.629955</td>\n",
       "    </tr>\n",
       "    <tr>\n",
       "      <th>4257</th>\n",
       "      <td>Country_Tanzania</td>\n",
       "      <td>-0.427009</td>\n",
       "    </tr>\n",
       "    <tr>\n",
       "      <th>4109</th>\n",
       "      <td>Country_Cameroon</td>\n",
       "      <td>-0.400900</td>\n",
       "    </tr>\n",
       "    <tr>\n",
       "      <th>4392</th>\n",
       "      <td>manufacturer_Lioré-et-Olivier</td>\n",
       "      <td>-0.334814</td>\n",
       "    </tr>\n",
       "    <tr>\n",
       "      <th>4118</th>\n",
       "      <td>Country_Congo</td>\n",
       "      <td>-0.318148</td>\n",
       "    </tr>\n",
       "    <tr>\n",
       "      <th>1165</th>\n",
       "      <td>Operator_Compagnie Franco-Roumaine de Navigati...</td>\n",
       "      <td>-0.303562</td>\n",
       "    </tr>\n",
       "    <tr>\n",
       "      <th>3858</th>\n",
       "      <td>Operator_Vector Sky Service</td>\n",
       "      <td>-0.283350</td>\n",
       "    </tr>\n",
       "    <tr>\n",
       "      <th>1779</th>\n",
       "      <td>Operator_Helmut Horten</td>\n",
       "      <td>-0.273821</td>\n",
       "    </tr>\n",
       "    <tr>\n",
       "      <th>4276</th>\n",
       "      <td>Country_Venezuela</td>\n",
       "      <td>-0.271059</td>\n",
       "    </tr>\n",
       "    <tr>\n",
       "      <th>4087</th>\n",
       "      <td>Country_Australia</td>\n",
       "      <td>-0.257502</td>\n",
       "    </tr>\n",
       "  </tbody>\n",
       "</table>\n",
       "</div>"
      ],
      "text/plain": [
       "                                              parameter  coefficient\n",
       "4071                               Crash site_Mountains    -0.629955\n",
       "4257                                   Country_Tanzania    -0.427009\n",
       "4109                                   Country_Cameroon    -0.400900\n",
       "4392                      manufacturer_Lioré-et-Olivier    -0.334814\n",
       "4118                                      Country_Congo    -0.318148\n",
       "1165  Operator_Compagnie Franco-Roumaine de Navigati...    -0.303562\n",
       "3858                        Operator_Vector Sky Service    -0.283350\n",
       "1779                             Operator_Helmut Horten    -0.273821\n",
       "4276                                  Country_Venezuela    -0.271059\n",
       "4087                                  Country_Australia    -0.257502"
      ]
     },
     "execution_count": 257,
     "metadata": {},
     "output_type": "execute_result"
    }
   ],
   "source": [
    "coef.sort_values(by = 'coefficient').head(10)"
   ]
  },
  {
   "cell_type": "code",
   "execution_count": 258,
   "id": "dbee5d52-f829-4f0c-8221-219c534c1ee3",
   "metadata": {},
   "outputs": [
    {
     "data": {
      "text/html": [
       "<div>\n",
       "<style scoped>\n",
       "    .dataframe tbody tr th:only-of-type {\n",
       "        vertical-align: middle;\n",
       "    }\n",
       "\n",
       "    .dataframe tbody tr th {\n",
       "        vertical-align: top;\n",
       "    }\n",
       "\n",
       "    .dataframe thead th {\n",
       "        text-align: right;\n",
       "    }\n",
       "</style>\n",
       "<table border=\"1\" class=\"dataframe\">\n",
       "  <thead>\n",
       "    <tr style=\"text-align: right;\">\n",
       "      <th></th>\n",
       "      <th>parameter</th>\n",
       "      <th>coefficient</th>\n",
       "    </tr>\n",
       "  </thead>\n",
       "  <tbody>\n",
       "    <tr>\n",
       "      <th>4301</th>\n",
       "      <td>manufacturer_BAc</td>\n",
       "      <td>0.283624</td>\n",
       "    </tr>\n",
       "    <tr>\n",
       "      <th>4405</th>\n",
       "      <td>manufacturer_Morane-Saulnier</td>\n",
       "      <td>0.291639</td>\n",
       "    </tr>\n",
       "    <tr>\n",
       "      <th>4168</th>\n",
       "      <td>Country_Jamaica</td>\n",
       "      <td>0.304487</td>\n",
       "    </tr>\n",
       "    <tr>\n",
       "      <th>4064</th>\n",
       "      <td>Flight phase_Parking</td>\n",
       "      <td>0.311760</td>\n",
       "    </tr>\n",
       "    <tr>\n",
       "      <th>4150</th>\n",
       "      <td>Country_Greenland</td>\n",
       "      <td>0.328840</td>\n",
       "    </tr>\n",
       "    <tr>\n",
       "      <th>4144</th>\n",
       "      <td>Country_Gabon</td>\n",
       "      <td>0.345670</td>\n",
       "    </tr>\n",
       "    <tr>\n",
       "      <th>4375</th>\n",
       "      <td>manufacturer_IAI</td>\n",
       "      <td>0.418246</td>\n",
       "    </tr>\n",
       "    <tr>\n",
       "      <th>4123</th>\n",
       "      <td>Country_Czech Republic</td>\n",
       "      <td>0.456116</td>\n",
       "    </tr>\n",
       "    <tr>\n",
       "      <th>4067</th>\n",
       "      <td>Crash site_Airport (less than 10 km from airport)</td>\n",
       "      <td>0.557569</td>\n",
       "    </tr>\n",
       "    <tr>\n",
       "      <th>4088</th>\n",
       "      <td>Country_Austria</td>\n",
       "      <td>0.816735</td>\n",
       "    </tr>\n",
       "  </tbody>\n",
       "</table>\n",
       "</div>"
      ],
      "text/plain": [
       "                                              parameter  coefficient\n",
       "4301                                   manufacturer_BAc     0.283624\n",
       "4405                       manufacturer_Morane-Saulnier     0.291639\n",
       "4168                                    Country_Jamaica     0.304487\n",
       "4064                               Flight phase_Parking     0.311760\n",
       "4150                                  Country_Greenland     0.328840\n",
       "4144                                      Country_Gabon     0.345670\n",
       "4375                                   manufacturer_IAI     0.418246\n",
       "4123                             Country_Czech Republic     0.456116\n",
       "4067  Crash site_Airport (less than 10 km from airport)     0.557569\n",
       "4088                                    Country_Austria     0.816735"
      ]
     },
     "execution_count": 258,
     "metadata": {},
     "output_type": "execute_result"
    }
   ],
   "source": [
    "coef.sort_values(by = 'coefficient').tail(10)"
   ]
  },
  {
   "cell_type": "code",
   "execution_count": 259,
   "id": "29278332-9e45-4a61-a92f-47e4ae27b447",
   "metadata": {},
   "outputs": [
    {
     "data": {
      "image/png": "[encoded data removed]",
      "text/plain": [
       "<Figure size 1440x720 with 1 Axes>"
      ]
     },
     "metadata": {
      "needs_background": "light"
     },
     "output_type": "display_data"
    }
   ],
   "source": [
    "pd.concat([coef.sort_values(by = 'coefficient').head(10), coef.sort_values(by = 'coefficient').tail(10)]).set_index('parameter').plot(kind = 'barh', figsize = (20, 10), fontsize = 18);\n",
    "plt.title('Top 10 Coefficients on Whether there is survivor', fontsize = 18);\n",
    "plt.savefig('image/Logistic_top_10.jpg')"
   ]
  },
  {
   "cell_type": "code",
   "execution_count": 106,
   "id": "7d4aa86d-867c-414b-91b9-3b7896f5c746",
   "metadata": {
    "tags": []
   },
   "outputs": [
    {
     "data": {
      "text/plain": [
       "dict_keys(['memory', 'steps', 'verbose', 'standardscaler', 'logisticregression', 'standardscaler__copy', 'standardscaler__with_mean', 'standardscaler__with_std', 'logisticregression__C', 'logisticregression__class_weight', 'logisticregression__dual', 'logisticregression__fit_intercept', 'logisticregression__intercept_scaling', 'logisticregression__l1_ratio', 'logisticregression__max_iter', 'logisticregression__multi_class', 'logisticregression__n_jobs', 'logisticregression__penalty', 'logisticregression__random_state', 'logisticregression__solver', 'logisticregression__tol', 'logisticregression__verbose', 'logisticregression__warm_start'])"
      ]
     },
     "execution_count": 106,
     "metadata": {},
     "output_type": "execute_result"
    }
   ],
   "source": [
    "pipe1.get_params().keys()"
   ]
  },
  {
   "cell_type": "code",
   "execution_count": 109,
   "id": "e4ed43e9-3e6c-4074-acc4-86b5dd849a9c",
   "metadata": {
    "tags": []
   },
   "outputs": [],
   "source": [
    "param_grid1 = {\n",
    "    'logisticregression__C': [0.1, 0.5, 1.0], \n",
    "    'logisticregression__class_weight': ['balanced']\n",
    "             }\n",
    "\n",
    "gs1 = GridSearchCV(pipe1, param_grid = param_grid1, n_jobs = -1)"
   ]
  },
  {
   "cell_type": "code",
   "execution_count": 110,
   "id": "2cd3c8ab-267a-4091-89b3-959779fe6a97",
   "metadata": {},
   "outputs": [
    {
     "data": {
      "text/plain": [
       "GridSearchCV(estimator=Pipeline(steps=[('standardscaler', StandardScaler()),\n",
       "                                       ('logisticregression',\n",
       "                                        LogisticRegression(max_iter=10000))]),\n",
       "             n_jobs=-1,\n",
       "             param_grid={'logisticregression__C': [0.1, 0.5, 1.0],\n",
       "                         'logisticregression__class_weight': ['balanced']})"
      ]
     },
     "execution_count": 110,
     "metadata": {},
     "output_type": "execute_result"
    }
   ],
   "source": [
    "gs1.fit(X_train_enc, y_train)"
   ]
  },
  {
   "cell_type": "code",
   "execution_count": 111,
   "id": "d3e250d5-34ab-4bff-8bdf-48c517263ec5",
   "metadata": {},
   "outputs": [
    {
     "data": {
      "text/plain": [
       "{'logisticregression__C': 0.1, 'logisticregression__class_weight': 'balanced'}"
      ]
     },
     "execution_count": 111,
     "metadata": {},
     "output_type": "execute_result"
    }
   ],
   "source": [
    "gs1.best_params_"
   ]
  },
  {
   "cell_type": "code",
   "execution_count": 112,
   "id": "1411339e-f61f-4e04-8854-1a491fc5d88e",
   "metadata": {},
   "outputs": [
    {
     "data": {
      "text/plain": [
       "(0.8823253082795067, 0.6653751320887636)"
      ]
     },
     "execution_count": 112,
     "metadata": {},
     "output_type": "execute_result"
    }
   ],
   "source": [
    "gs1.score(X_train_enc, y_train), gs1.score(X_test_enc, y_test)"
   ]
  },
  {
   "cell_type": "code",
   "execution_count": 113,
   "id": "e9fb6b44-2b05-4779-aa46-55f4f767c45c",
   "metadata": {},
   "outputs": [
    {
     "data": {
      "text/plain": [
       "0.6364948952977121"
      ]
     },
     "execution_count": 113,
     "metadata": {},
     "output_type": "execute_result"
    }
   ],
   "source": [
    "cross_val_score(gs1.best_estimator_, X_test_enc, y_test).mean()"
   ]
  },
  {
   "cell_type": "code",
   "execution_count": 145,
   "id": "75e1ad76-2be4-48ed-b6ff-9eafe249a7c1",
   "metadata": {},
   "outputs": [
    {
     "data": {
      "text/plain": [
       "(0.9306448470679914, 0.7232049947970863)"
      ]
     },
     "execution_count": 145,
     "metadata": {},
     "output_type": "execute_result"
    }
   ],
   "source": [
    "precision_score(y_train, gs1.predict(X_train_enc)), precision_score(y_test, gs1.predict(X_test_enc))"
   ]
  },
  {
   "cell_type": "code",
   "execution_count": 146,
   "id": "2a9e2dfc-bf41-40ce-8b3f-97697454e4ca",
   "metadata": {
    "tags": []
   },
   "outputs": [
    {
     "data": {
      "image/png": "[encoded data removed]",
      "text/plain": [
       "<Figure size 432x288 with 2 Axes>"
      ]
     },
     "metadata": {
      "needs_background": "light"
     },
     "output_type": "display_data"
    }
   ],
   "source": [
    "ConfusionMatrixDisplay.from_estimator(gs1, X_test_enc, y_test, normalize = 'true', cmap = 'Blues');"
   ]
  },
  {
   "cell_type": "markdown",
   "id": "72be0a13-65d4-4d2d-8a52-192631ac5d07",
   "metadata": {},
   "source": [
    "#### 3.2.2. KNN"
   ]
  },
  {
   "cell_type": "code",
   "execution_count": 149,
   "id": "b85b1e53-b006-4782-96ce-6850353e11b4",
   "metadata": {},
   "outputs": [],
   "source": [
    "pipe2 = make_pipeline(StandardScaler(), KNeighborsClassifier())"
   ]
  },
  {
   "cell_type": "code",
   "execution_count": 150,
   "id": "b9b37d46-9fe5-43a9-a17e-538498bd9bc7",
   "metadata": {},
   "outputs": [
    {
     "data": {
      "text/plain": [
       "Pipeline(steps=[('standardscaler', StandardScaler()),\n",
       "                ('kneighborsclassifier', KNeighborsClassifier())])"
      ]
     },
     "execution_count": 150,
     "metadata": {},
     "output_type": "execute_result"
    }
   ],
   "source": [
    "pipe2.fit(X_train_enc, y_train)"
   ]
  },
  {
   "cell_type": "code",
   "execution_count": 151,
   "id": "b0137c17-3e37-449a-916b-efe92aeedead",
   "metadata": {},
   "outputs": [
    {
     "data": {
      "text/plain": [
       "(0.7343511450381679, 0.6340260655160268)"
      ]
     },
     "execution_count": 151,
     "metadata": {},
     "output_type": "execute_result"
    }
   ],
   "source": [
    "pipe2.score(X_train_enc, y_train), pipe2.score(X_test_enc, y_test)"
   ]
  },
  {
   "cell_type": "code",
   "execution_count": 152,
   "id": "5ff6ff0e-2dc8-40c4-883d-0f0e14659905",
   "metadata": {},
   "outputs": [
    {
     "data": {
      "text/plain": [
       "(0.6321785085143864, 0.6023200933999057)"
      ]
     },
     "execution_count": 152,
     "metadata": {},
     "output_type": "execute_result"
    }
   ],
   "source": [
    "cross_val_score(pipe2, X_train_enc, y_train).mean(), cross_val_score(pipe2, X_test_enc, y_test).mean()"
   ]
  },
  {
   "cell_type": "code",
   "execution_count": 153,
   "id": "ea5071ce-e65f-4550-bd59-5cb58968b084",
   "metadata": {},
   "outputs": [
    {
     "data": {
      "text/plain": [
       "(0.7321874540913765, 0.6648092584654951)"
      ]
     },
     "execution_count": 153,
     "metadata": {},
     "output_type": "execute_result"
    }
   ],
   "source": [
    "precision_score(y_train, pipe2.predict(X_train_enc)), precision_score(y_test, pipe2.predict(X_test_enc))"
   ]
  },
  {
   "cell_type": "code",
   "execution_count": 154,
   "id": "12d6df13-e0d7-413c-a666-322933d3415c",
   "metadata": {
    "tags": []
   },
   "outputs": [
    {
     "data": {
      "text/plain": [
       "dict_keys(['memory', 'steps', 'verbose', 'standardscaler', 'kneighborsclassifier', 'standardscaler__copy', 'standardscaler__with_mean', 'standardscaler__with_std', 'kneighborsclassifier__algorithm', 'kneighborsclassifier__leaf_size', 'kneighborsclassifier__metric', 'kneighborsclassifier__metric_params', 'kneighborsclassifier__n_jobs', 'kneighborsclassifier__n_neighbors', 'kneighborsclassifier__p', 'kneighborsclassifier__weights'])"
      ]
     },
     "execution_count": 154,
     "metadata": {},
     "output_type": "execute_result"
    }
   ],
   "source": [
    "pipe2.get_params().keys()"
   ]
  },
  {
   "cell_type": "code",
   "execution_count": 155,
   "id": "70240055-beca-4481-ba8e-c67db951cd95",
   "metadata": {},
   "outputs": [],
   "source": [
    "param_grid2 = {\n",
    "    'kneighborsclassifier__n_neighbors': [5, 10, 20], \n",
    "    'kneighborsclassifier__weights': ['uniform', 'distance'], \n",
    "             }\n",
    "gs2 = GridSearchCV(pipe2, param_grid = param_grid2, n_jobs = -1)"
   ]
  },
  {
   "cell_type": "code",
   "execution_count": 156,
   "id": "bd19a3c3-1b12-4831-a85c-1a03007d769d",
   "metadata": {},
   "outputs": [
    {
     "data": {
      "text/plain": [
       "GridSearchCV(estimator=Pipeline(steps=[('standardscaler', StandardScaler()),\n",
       "                                       ('kneighborsclassifier',\n",
       "                                        KNeighborsClassifier())]),\n",
       "             n_jobs=-1,\n",
       "             param_grid={'kneighborsclassifier__n_neighbors': [5, 10, 20],\n",
       "                         'kneighborsclassifier__weights': ['uniform',\n",
       "                                                           'distance']})"
      ]
     },
     "execution_count": 156,
     "metadata": {},
     "output_type": "execute_result"
    }
   ],
   "source": [
    "gs2.fit(X_train_enc, y_train)"
   ]
  },
  {
   "cell_type": "code",
   "execution_count": 157,
   "id": "756e7b94-92ab-468c-8924-32295cadc668",
   "metadata": {},
   "outputs": [
    {
     "data": {
      "text/plain": [
       "{'kneighborsclassifier__n_neighbors': 20,\n",
       " 'kneighborsclassifier__weights': 'uniform'}"
      ]
     },
     "execution_count": 157,
     "metadata": {},
     "output_type": "execute_result"
    }
   ],
   "source": [
    "gs2.best_params_"
   ]
  },
  {
   "cell_type": "code",
   "execution_count": 158,
   "id": "e6afc7ac-a312-41f5-9d46-be9c51a65f2c",
   "metadata": {},
   "outputs": [
    {
     "data": {
      "text/plain": [
       "(0.6737522019964768, 0.65797816132441)"
      ]
     },
     "execution_count": 158,
     "metadata": {},
     "output_type": "execute_result"
    }
   ],
   "source": [
    "gs2.score(X_train_enc, y_train), gs2.score(X_test_enc, y_test)"
   ]
  },
  {
   "cell_type": "code",
   "execution_count": 159,
   "id": "44f6617b-76ea-434e-9009-8ccc77044804",
   "metadata": {},
   "outputs": [
    {
     "data": {
      "text/plain": [
       "0.6445903817969545"
      ]
     },
     "execution_count": 159,
     "metadata": {},
     "output_type": "execute_result"
    }
   ],
   "source": [
    "cross_val_score(gs2.best_estimator_, X_test_enc, y_test).mean()"
   ]
  },
  {
   "cell_type": "code",
   "execution_count": 160,
   "id": "414edec0-58a4-4097-9e90-d38784949f34",
   "metadata": {},
   "outputs": [
    {
     "data": {
      "text/plain": [
       "(0.6729436380279848, 0.6632852126414358)"
      ]
     },
     "execution_count": 160,
     "metadata": {},
     "output_type": "execute_result"
    }
   ],
   "source": [
    "precision_score(y_train, gs2.predict(X_train_enc)), precision_score(y_test, gs2.predict(X_test_enc))"
   ]
  },
  {
   "cell_type": "code",
   "execution_count": 297,
   "id": "fd52ab14-ea69-4929-b989-0572ddf19c5a",
   "metadata": {
    "tags": []
   },
   "outputs": [
    {
     "data": {
      "image/png": "[encoded data removed]",
      "text/plain": [
       "<Figure size 432x288 with 2 Axes>"
      ]
     },
     "metadata": {
      "needs_background": "light"
     },
     "output_type": "display_data"
    }
   ],
   "source": [
    "ConfusionMatrixDisplay.from_estimator(gs2, X_test_enc, y_test, normalize = 'true', cmap = 'Greens');"
   ]
  },
  {
   "cell_type": "markdown",
   "id": "0237a812-be32-44f7-b47d-5b2338c34712",
   "metadata": {
    "tags": []
   },
   "source": [
    "#### 3.3.3. Random Forest"
   ]
  },
  {
   "cell_type": "code",
   "execution_count": 169,
   "id": "96edcef6-0cfc-47e4-9d02-290ebbd862d1",
   "metadata": {},
   "outputs": [],
   "source": [
    "pipe3 = make_pipeline(StandardScaler(), RandomForestClassifier())"
   ]
  },
  {
   "cell_type": "code",
   "execution_count": 170,
   "id": "267b7f70-c8ef-4e9a-92e2-78fb99e962d4",
   "metadata": {},
   "outputs": [
    {
     "data": {
      "text/plain": [
       "Pipeline(steps=[('standardscaler', StandardScaler()),\n",
       "                ('randomforestclassifier', RandomForestClassifier())])"
      ]
     },
     "execution_count": 170,
     "metadata": {},
     "output_type": "execute_result"
    }
   ],
   "source": [
    "pipe3.fit(X_train_enc, y_train)"
   ]
  },
  {
   "cell_type": "code",
   "execution_count": 171,
   "id": "9cfa4ff6-41a6-4ef2-8c77-1383a3c2198c",
   "metadata": {},
   "outputs": [
    {
     "data": {
      "text/plain": [
       "(0.9994128009395185, 0.7340612891863332)"
      ]
     },
     "execution_count": 171,
     "metadata": {},
     "output_type": "execute_result"
    }
   ],
   "source": [
    "pipe3.score(X_train_enc, y_train), pipe3.score(X_test_enc, y_test)"
   ]
  },
  {
   "cell_type": "code",
   "execution_count": 172,
   "id": "2e6c3f99-fdc2-4f94-87b4-8b265c5a0763",
   "metadata": {},
   "outputs": [
    {
     "data": {
      "text/plain": [
       "(0.731650029359953, 0.7270133144546291)"
      ]
     },
     "execution_count": 172,
     "metadata": {},
     "output_type": "execute_result"
    }
   ],
   "source": [
    "cross_val_score(pipe3, X_train_enc, y_train).mean(), cross_val_score(pipe3, X_test_enc, y_test).mean()"
   ]
  },
  {
   "cell_type": "code",
   "execution_count": 173,
   "id": "44d6bdb1-8b29-4b23-84fa-0769e649b482",
   "metadata": {},
   "outputs": [
    {
     "data": {
      "text/plain": [
       "(0.9992628086988573, 0.7429626211352099)"
      ]
     },
     "execution_count": 173,
     "metadata": {},
     "output_type": "execute_result"
    }
   ],
   "source": [
    "precision_score(y_train, pipe3.predict(X_train_enc)), precision_score(y_test, pipe3.predict(X_test_enc))"
   ]
  },
  {
   "cell_type": "code",
   "execution_count": 231,
   "id": "d1dd6a41-d1b9-4563-82a1-e58dc0e1e086",
   "metadata": {},
   "outputs": [
    {
     "data": {
      "image/png": "[encoded data removed]",
      "text/plain": [
       "<Figure size 432x288 with 2 Axes>"
      ]
     },
     "metadata": {
      "needs_background": "light"
     },
     "output_type": "display_data"
    }
   ],
   "source": [
    "rfc = ConfusionMatrixDisplay.from_estimator(pipe3, X_test_enc, y_test, normalize = 'true', cmap = 'Oranges');\n",
    "rfc\n",
    "plt.title('Confusion Matrix: Random Forest');"
   ]
  },
  {
   "cell_type": "code",
   "execution_count": 232,
   "id": "2412bafd-c07f-410b-8d5a-4344300d3c3e",
   "metadata": {},
   "outputs": [],
   "source": [
    "rfc.figure_.savefig('image/rfc_confusion.jpg', dpi = 100)"
   ]
  },
  {
   "cell_type": "code",
   "execution_count": 302,
   "id": "a68258c9-2430-4c49-94a5-7d75d1a12b0e",
   "metadata": {},
   "outputs": [],
   "source": [
    "coef = pd.DataFrame(pipe3.named_steps['randomforestclassifier'].feature_importances_, index = X_train_enc.columns, columns = ['coefficient'])"
   ]
  },
  {
   "cell_type": "code",
   "execution_count": 303,
   "id": "de2758be-c4da-4d06-ae1e-e3c0c8f5cd3e",
   "metadata": {
    "tags": []
   },
   "outputs": [
    {
     "data": {
      "image/png": "[encoded data removed]",
      "text/plain": [
       "<Figure size 1080x720 with 1 Axes>"
      ]
     },
     "metadata": {
      "needs_background": "light"
     },
     "output_type": "display_data"
    }
   ],
   "source": [
    "coef.sort_values(by = 'coefficient').head(10).plot(kind = 'barh', figsize = (15, 10),color = 'red')\n",
    "plt.title('Least Important 10 Features');\n",
    "plt.savefig('image/feature_importance_least10.jpg')"
   ]
  },
  {
   "cell_type": "code",
   "execution_count": 305,
   "id": "7d39801a-6af5-4e8c-b1fc-e4128a4d7bf0",
   "metadata": {},
   "outputs": [
    {
     "data": {
      "image/png": "[encoded data removed]",
      "text/plain": [
       "<Figure size 1440x720 with 1 Axes>"
      ]
     },
     "metadata": {
      "needs_background": "light"
     },
     "output_type": "display_data"
    }
   ],
   "source": [
    "coef.sort_values(by = 'coefficient').tail(10).plot(kind = 'barh', figsize = (20, 10), color = 'orange',fontsize = 18)\n",
    "plt.title('Most Important 10 Features for Survivors', fontsize = 18);\n",
    "plt.savefig('image/feature_importance_most10.jpg')"
   ]
  },
  {
   "cell_type": "code",
   "execution_count": null,
   "id": "91a14ac7-d492-4fe9-9ec4-b56ee9bcccad",
   "metadata": {},
   "outputs": [],
   "source": []
  },
  {
   "cell_type": "code",
   "execution_count": 186,
   "id": "9efe3e25-688b-4abf-8528-bc9c3eab8c03",
   "metadata": {
    "tags": []
   },
   "outputs": [
    {
     "data": {
      "text/plain": [
       "dict_keys(['memory', 'steps', 'verbose', 'standardscaler', 'randomforestclassifier', 'standardscaler__copy', 'standardscaler__with_mean', 'standardscaler__with_std', 'randomforestclassifier__bootstrap', 'randomforestclassifier__ccp_alpha', 'randomforestclassifier__class_weight', 'randomforestclassifier__criterion', 'randomforestclassifier__max_depth', 'randomforestclassifier__max_features', 'randomforestclassifier__max_leaf_nodes', 'randomforestclassifier__max_samples', 'randomforestclassifier__min_impurity_decrease', 'randomforestclassifier__min_samples_leaf', 'randomforestclassifier__min_samples_split', 'randomforestclassifier__min_weight_fraction_leaf', 'randomforestclassifier__n_estimators', 'randomforestclassifier__n_jobs', 'randomforestclassifier__oob_score', 'randomforestclassifier__random_state', 'randomforestclassifier__verbose', 'randomforestclassifier__warm_start'])"
      ]
     },
     "execution_count": 186,
     "metadata": {},
     "output_type": "execute_result"
    }
   ],
   "source": [
    "pipe3.get_params().keys()"
   ]
  },
  {
   "cell_type": "code",
   "execution_count": 187,
   "id": "44dd1b56-12da-45ba-a665-8f1d2f75725b",
   "metadata": {},
   "outputs": [],
   "source": [
    "param_grid3 = {\n",
    "    'randomforestclassifier__n_estimators': [100, 150, 200], \n",
    "    'randomforestclassifier__max_depth': [5, 10, 15], \n",
    "    'randomforestclassifier__min_samples_split': [2, 5, 7]\n",
    "             }\n",
    "gs3 = GridSearchCV(pipe3, param_grid = param_grid3, n_jobs = -1)"
   ]
  },
  {
   "cell_type": "code",
   "execution_count": 192,
   "id": "1baa027f-9ce1-4766-9b17-ad75aa8a9a7e",
   "metadata": {},
   "outputs": [
    {
     "name": "stderr",
     "output_type": "stream",
     "text": [
      "/opt/anaconda3/lib/python3.9/site-packages/joblib/externals/loky/process_executor.py:702: UserWarning: A worker stopped while some jobs were given to the executor. This can be caused by a too short worker timeout or by a memory leak.\n",
      "  warnings.warn(\n"
     ]
    },
    {
     "data": {
      "text/plain": [
       "GridSearchCV(estimator=Pipeline(steps=[('standardscaler', StandardScaler()),\n",
       "                                       ('randomforestclassifier',\n",
       "                                        RandomForestClassifier())]),\n",
       "             n_jobs=-1,\n",
       "             param_grid={'randomforestclassifier__max_depth': [5, 10, 15],\n",
       "                         'randomforestclassifier__min_samples_split': [2, 5, 7],\n",
       "                         'randomforestclassifier__n_estimators': [100, 150,\n",
       "                                                                  200]})"
      ]
     },
     "execution_count": 192,
     "metadata": {},
     "output_type": "execute_result"
    }
   ],
   "source": [
    "gs3.fit(X_train_enc, y_train)"
   ]
  },
  {
   "cell_type": "code",
   "execution_count": 193,
   "id": "b3f58c16-7c61-4d3c-9ad9-73b26da24692",
   "metadata": {},
   "outputs": [
    {
     "data": {
      "text/plain": [
       "{'randomforestclassifier__max_depth': 15,\n",
       " 'randomforestclassifier__min_samples_split': 2,\n",
       " 'randomforestclassifier__n_estimators': 150}"
      ]
     },
     "execution_count": 193,
     "metadata": {},
     "output_type": "execute_result"
    }
   ],
   "source": [
    "gs3.best_params_"
   ]
  },
  {
   "cell_type": "code",
   "execution_count": 194,
   "id": "f1dbd7ac-7b70-4b06-a059-1a6dc7d1d01b",
   "metadata": {},
   "outputs": [
    {
     "data": {
      "text/plain": [
       "(0.7142689371697005, 0.6946107784431138)"
      ]
     },
     "execution_count": 194,
     "metadata": {},
     "output_type": "execute_result"
    }
   ],
   "source": [
    "gs3.score(X_train_enc, y_train), gs3.score(X_test_enc, y_test)"
   ]
  },
  {
   "cell_type": "code",
   "execution_count": 195,
   "id": "36c1238a-45bc-461e-931e-5a5cbc719c07",
   "metadata": {
    "tags": []
   },
   "outputs": [
    {
     "data": {
      "text/plain": [
       "0.6949660928534167"
      ]
     },
     "execution_count": 195,
     "metadata": {},
     "output_type": "execute_result"
    }
   ],
   "source": [
    "cross_val_score(gs3.best_estimator_, X_test_enc, y_test).mean()"
   ]
  },
  {
   "cell_type": "code",
   "execution_count": 196,
   "id": "4cc8c913-1e79-4418-aef6-69c537f10cd4",
   "metadata": {},
   "outputs": [
    {
     "data": {
      "text/plain": [
       "(0.6956806282722513, 0.6822936846183649)"
      ]
     },
     "execution_count": 196,
     "metadata": {},
     "output_type": "execute_result"
    }
   ],
   "source": [
    "precision_score(y_train, gs3.predict(X_train_enc)), precision_score(y_test, gs3.predict(X_test_enc))"
   ]
  },
  {
   "cell_type": "markdown",
   "id": "d6c1bcfa-bd6a-4e49-bd6c-67f70a7cf5b6",
   "metadata": {},
   "source": [
    "#### 3.3.4. Neual Network"
   ]
  },
  {
   "cell_type": "code",
   "execution_count": 287,
   "id": "88c188a0-e30c-4190-bbb1-eefefbb25ae0",
   "metadata": {},
   "outputs": [],
   "source": [
    "import tensorflow as tf\n",
    "from tensorflow.keras.models import Sequential\n",
    "from tensorflow.keras.layers import Dense, Dropout\n",
    "from tensorflow.keras.callbacks import EarlyStopping\n",
    "from tensorflow import keras"
   ]
  },
  {
   "cell_type": "code",
   "execution_count": 274,
   "id": "f997cb00-95c3-40a2-bb1f-235a8721d8c9",
   "metadata": {},
   "outputs": [],
   "source": [
    "ss = StandardScaler()"
   ]
  },
  {
   "cell_type": "code",
   "execution_count": 277,
   "id": "a6c373df-cbee-4b2f-a4ef-0b46ed59916c",
   "metadata": {},
   "outputs": [],
   "source": [
    "X_train_ss = ss.fit_transform(X_train_enc)\n",
    "X_train_ss = pd.DataFrame(X_train_ss, columns = ss.get_feature_names_out())"
   ]
  },
  {
   "cell_type": "code",
   "execution_count": 278,
   "id": "c14dd949-3647-4516-a49a-21c11d84a6d9",
   "metadata": {},
   "outputs": [],
   "source": [
    "X_test_ss = ss.transform(X_test_enc)\n",
    "X_test_ss = pd.DataFrame(X_test_ss, columns = ss.get_feature_names_out())"
   ]
  },
  {
   "cell_type": "code",
   "execution_count": 279,
   "id": "205aa5a1-e6aa-47fa-a1da-f8c7da8f0c0e",
   "metadata": {},
   "outputs": [
    {
     "data": {
      "text/plain": [
       "((8515, 4473), (2839, 4473))"
      ]
     },
     "execution_count": 279,
     "metadata": {},
     "output_type": "execute_result"
    }
   ],
   "source": [
    "X_train_ss.shape, X_test_ss.shape"
   ]
  },
  {
   "cell_type": "code",
   "execution_count": 291,
   "id": "823152f2-8c27-42ac-80c7-1cadfe4680a4",
   "metadata": {},
   "outputs": [],
   "source": [
    "model = Sequential()\n",
    "model.add(Dense(80, activation='relu'))\n",
    "model.add(Dropout(0.2))\n",
    "model.add(Dense(40, activation ='relu'))\n",
    "model.add(Dropout(0.2))\n",
    "model.add(Dense(20, activation ='relu'))\n",
    "model.add(Dense(1, activation = 'sigmoid'))"
   ]
  },
  {
   "cell_type": "code",
   "execution_count": 292,
   "id": "10140a04-2aa6-45f4-bfe4-13eef6c970bf",
   "metadata": {},
   "outputs": [],
   "source": [
    "model.compile(\n",
    "    optimizer = \"adam\", \n",
    "    loss = \"binary_crossentropy\", \n",
    "    metrics = \"accuracy\"\n",
    ")"
   ]
  },
  {
   "cell_type": "code",
   "execution_count": 294,
   "id": "a9302766-988d-4742-a866-cedaef1b3a28",
   "metadata": {},
   "outputs": [],
   "source": [
    "early_stop = EarlyStopping(monitor = 'val_loss', min_delta = 0, patience = 5, verbose = 1)"
   ]
  },
  {
   "cell_type": "code",
   "execution_count": 296,
   "id": "4c613b79-ba5e-494d-9621-44d844ddeac0",
   "metadata": {
    "tags": []
   },
   "outputs": [
    {
     "name": "stdout",
     "output_type": "stream",
     "text": [
      "Epoch 1/50\n",
      "267/267 [==============================] - 2s 6ms/step - loss: 0.1680 - accuracy: 0.9180 - val_loss: 1.4277 - val_accuracy: 0.6862\n",
      "Epoch 2/50\n",
      "267/267 [==============================] - 1s 5ms/step - loss: 0.1617 - accuracy: 0.9207 - val_loss: 1.3510 - val_accuracy: 0.6918\n",
      "Epoch 3/50\n",
      "267/267 [==============================] - 1s 5ms/step - loss: 0.1492 - accuracy: 0.9231 - val_loss: 1.5475 - val_accuracy: 0.6788\n",
      "Epoch 4/50\n",
      "267/267 [==============================] - 1s 5ms/step - loss: 0.1442 - accuracy: 0.9271 - val_loss: 1.6173 - val_accuracy: 0.6777\n",
      "Epoch 5/50\n",
      "267/267 [==============================] - 1s 5ms/step - loss: 0.1321 - accuracy: 0.9332 - val_loss: 1.7959 - val_accuracy: 0.6756\n",
      "Epoch 6/50\n",
      "267/267 [==============================] - 1s 5ms/step - loss: 0.1304 - accuracy: 0.9340 - val_loss: 1.9054 - val_accuracy: 0.6703\n",
      "Epoch 7/50\n",
      "267/267 [==============================] - 1s 5ms/step - loss: 0.1248 - accuracy: 0.9386 - val_loss: 1.9344 - val_accuracy: 0.6608\n",
      "Epoch 7: early stopping\n"
     ]
    }
   ],
   "source": [
    "history = model.fit(\n",
    "    X_train_ss, y_train, \n",
    "    validation_data = (X_test_ss, y_test), epochs = 50, batch_size = None, callbacks = [early_stop])"
   ]
  },
  {
   "cell_type": "markdown",
   "id": "6e002022-d13f-4ae4-b149-0ee533488cbb",
   "metadata": {},
   "source": [
    "## NLP"
   ]
  },
  {
   "cell_type": "code",
   "execution_count": 310,
   "id": "1da37a68-34ac-41db-8f16-c13af402eba8",
   "metadata": {},
   "outputs": [],
   "source": [
    "df_comm_nlp = df_comm"
   ]
  },
  {
   "cell_type": "code",
   "execution_count": 311,
   "id": "be29772d-2943-4216-bd4c-1a782bad5824",
   "metadata": {},
   "outputs": [
    {
     "data": {
      "text/plain": [
       "Date                  0\n",
       "Time               4410\n",
       "Aircraft              0\n",
       "Operator              0\n",
       "Flight phase        129\n",
       "Flight type           0\n",
       "Survivors             0\n",
       "Crash site           30\n",
       "Crash location        5\n",
       "Country               0\n",
       "Region                0\n",
       "Circumstances         1\n",
       "Crash cause           0\n",
       "aircraft_age        590\n",
       "people_on_board       0\n",
       "fatal_on_board        0\n",
       "num_survivor          0\n",
       "manufacturer        218\n",
       "Year                  0\n",
       "dtype: int64"
      ]
     },
     "execution_count": 311,
     "metadata": {},
     "output_type": "execute_result"
    }
   ],
   "source": [
    "df_comm_nlp.isna().sum()"
   ]
  },
  {
   "cell_type": "code",
   "execution_count": 312,
   "id": "1022a1fd-365f-42fb-a27b-4bf145e62c13",
   "metadata": {
    "tags": []
   },
   "outputs": [],
   "source": [
    "df_comm_nlp = df_comm_nlp.dropna(subset = ['Circumstances'])"
   ]
  },
  {
   "cell_type": "code",
   "execution_count": 314,
   "id": "e03ae47c-f541-4ea2-9059-7a67fe4aa131",
   "metadata": {},
   "outputs": [],
   "source": [
    "NLP_X = df_comm_nlp['Circumstances']\n",
    "NLP_y = df_comm_nlp['Survivors']\n",
    "\n",
    "nX_train, nX_test, ny_train, ny_test = train_test_split(NLP_X, NLP_y, random_state = 42, stratify = NLP_y)"
   ]
  },
  {
   "cell_type": "code",
   "execution_count": 316,
   "id": "0bf5e3fe-cff6-4798-9302-f7767e05af02",
   "metadata": {},
   "outputs": [],
   "source": [
    "pipe_nlp = make_pipeline(CountVectorizer(stop_words = 'english'), LogisticRegression(max_iter = 10000))"
   ]
  },
  {
   "cell_type": "code",
   "execution_count": 317,
   "id": "59628db7-3559-40d2-8925-bf5acde61739",
   "metadata": {},
   "outputs": [
    {
     "data": {
      "text/plain": [
       "Pipeline(steps=[('countvectorizer', CountVectorizer(stop_words='english')),\n",
       "                ('logisticregression', LogisticRegression(max_iter=10000))])"
      ]
     },
     "execution_count": 317,
     "metadata": {},
     "output_type": "execute_result"
    }
   ],
   "source": [
    "pipe_nlp.fit(nX_train, ny_train)"
   ]
  },
  {
   "cell_type": "code",
   "execution_count": 318,
   "id": "1c229ffa-684a-4f33-9920-dbc089889e20",
   "metadata": {
    "tags": []
   },
   "outputs": [
    {
     "data": {
      "text/plain": [
       "(0.9967112990368804, 0.94786896794646)"
      ]
     },
     "execution_count": 318,
     "metadata": {},
     "output_type": "execute_result"
    }
   ],
   "source": [
    "pipe_nlp.score(nX_train, ny_train), pipe_nlp.score(nX_test, ny_test)"
   ]
  },
  {
   "cell_type": "code",
   "execution_count": 319,
   "id": "6cae2400-a908-448f-b1c7-2edcababd56e",
   "metadata": {},
   "outputs": [
    {
     "data": {
      "text/plain": [
       "0.9398637780980961"
      ]
     },
     "execution_count": 319,
     "metadata": {},
     "output_type": "execute_result"
    }
   ],
   "source": [
    "cross_val_score(pipe_nlp, nX_train, ny_train).mean()"
   ]
  },
  {
   "cell_type": "code",
   "execution_count": 320,
   "id": "4b3e28dd-5163-4499-884c-49d35eea4d34",
   "metadata": {},
   "outputs": [
    {
     "data": {
      "image/png": "[encoded data removed]",
      "text/plain": [
       "<Figure size 432x288 with 2 Axes>"
      ]
     },
     "metadata": {
      "needs_background": "light"
     },
     "output_type": "display_data"
    }
   ],
   "source": [
    "ConfusionMatrixDisplay.from_estimator(pipe_nlp, nX_test, ny_test, cmap = 'Reds');"
   ]
  },
  {
   "cell_type": "code",
   "execution_count": 321,
   "id": "3f253d10-f42e-4d50-89e9-2616a5cdf548",
   "metadata": {},
   "outputs": [
    {
     "data": {
      "text/plain": [
       "0.94786896794646"
      ]
     },
     "execution_count": 321,
     "metadata": {},
     "output_type": "execute_result"
    }
   ],
   "source": [
    "accuracy_score(ny_test, pipe_nlp.predict(nX_test))"
   ]
  },
  {
   "cell_type": "code",
   "execution_count": 329,
   "id": "0780f2cf-0eaf-4b21-a67e-f4a130c41308",
   "metadata": {},
   "outputs": [
    {
     "data": {
      "text/plain": [
       "0.9642058165548099"
      ]
     },
     "execution_count": 329,
     "metadata": {},
     "output_type": "execute_result"
    }
   ],
   "source": [
    "precision_score(y_test, pipe_nlp.predict(nX_test))"
   ]
  },
  {
   "cell_type": "code",
   "execution_count": 322,
   "id": "167a90bf-54fe-4cd8-a13b-239065635a6f",
   "metadata": {
    "tags": []
   },
   "outputs": [],
   "source": [
    "nlp_coef = pd.DataFrame(pipe_nlp.named_steps['logisticregression'].coef_, \n",
    "             columns = pipe_nlp.named_steps['countvectorizer'].get_feature_names_out()).T.sort_values(by = 0)"
   ]
  },
  {
   "cell_type": "code",
   "execution_count": 327,
   "id": "2e5957aa-3734-421c-9702-c3664bca71d9",
   "metadata": {},
   "outputs": [
    {
     "data": {
      "image/png": "[encoded data removed]",
      "text/plain": [
       "<Figure size 1440x720 with 1 Axes>"
      ]
     },
     "metadata": {
      "needs_background": "light"
     },
     "output_type": "display_data"
    }
   ],
   "source": [
    "pd.concat([nlp_coef.head(10), nlp_coef.tail(10)]).plot(kind = 'barh', figsize = (20, 10), fontsize = 18);\n",
    "plt.title('Top 10 Impacting Words', fontsize = 18);\n",
    "plt.savefig('image/nlp.jpg')"
   ]
  },
  {
   "cell_type": "code",
   "execution_count": 193,
   "id": "c87144c9-7f19-4182-a42e-2444235d053b",
   "metadata": {},
   "outputs": [],
   "source": [
    "cv = CountVectorizer(stop_words = 'english')"
   ]
  },
  {
   "cell_type": "code",
   "execution_count": 194,
   "id": "b5f282ae-9a70-4247-a4b5-64fd5e078b7b",
   "metadata": {},
   "outputs": [],
   "source": [
    "nX_train_cv = cv.fit_transform(nX_train)"
   ]
  },
  {
   "cell_type": "code",
   "execution_count": 195,
   "id": "a52f373d-7a66-4c40-b081-05a4e1a0c3b6",
   "metadata": {},
   "outputs": [],
   "source": [
    "df_text = pd.DataFrame(nX_train_cv.A, columns = cv.get_feature_names_out())"
   ]
  },
  {
   "cell_type": "code",
   "execution_count": 196,
   "id": "f29b5ba4-bd7b-418a-b1be-71028763b8bc",
   "metadata": {},
   "outputs": [
    {
     "data": {
      "text/plain": [
       "aircraft      16667\n",
       "flight         9350\n",
       "crew           7704\n",
       "runway         7144\n",
       "pilot          7024\n",
       "              ...  \n",
       "mapping           1\n",
       "maps              1\n",
       "aykal             1\n",
       "maquinista        1\n",
       "beïda             1\n",
       "Length: 29235, dtype: int64"
      ]
     },
     "execution_count": 196,
     "metadata": {},
     "output_type": "execute_result"
    }
   ],
   "source": [
    "df_text.sum().sort_values(ascending = False)"
   ]
  }
 ],
 "metadata": {
  "kernelspec": {
   "display_name": "Python 3 (ipykernel)",
   "language": "python",
   "name": "python3"
  },
  "language_info": {
   "codemirror_mode": {
    "name": "ipython",
    "version": 3
   },
   "file_extension": ".py",
   "mimetype": "text/x-python",
   "name": "python",
   "nbconvert_exporter": "python",
   "pygments_lexer": "ipython3",
   "version": "3.9.7"
  }
 },
 "nbformat": 4,
 "nbformat_minor": 5
}
